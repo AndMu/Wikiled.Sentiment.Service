{
 "cells": [
  {
   "cell_type": "markdown",
   "metadata": {},
   "source": [
    "# Sample Sentiment Analysis"
   ]
  },
  {
   "cell_type": "code",
   "execution_count": null,
   "metadata": {
    "pycharm": {
     "is_executing": false
    }
   },
   "outputs": [],
   "source": [
    "!pip install nest_asyncio\n",
    "from logging.handlers import TimedRotatingFileHandler\n",
    "import logging.config\n",
    "from psenti import SentimentAnalysis, SentimentConnection, Document\n",
    "from sklearn import metrics\n",
    "from datetime import datetime\n",
    "import socket\n",
    "import json\n",
    "\n",
    "user_name = socket.gethostname()\n",
    "host = '127.0.0.1'\n",
    "port = 5000\n",
    "\n",
    "import nest_asyncio\n",
    "import asyncio\n",
    "nest_asyncio.apply(loop=asyncio.get_event_loop())\n",
    "\n",
    "logger = logging.getLogger('JupyterUI')\n",
    "logFormatter = logging.Formatter('%(asctime)s - [%(thread)s] [%(threadName)s]- %(name)s - %(levelname)s - %(message)s')\n",
    "logger.setLevel(logging.DEBUG)\n",
    "\n",
    "console = logging.StreamHandler()\n",
    "console.setFormatter(logFormatter)\n",
    "console.setLevel(logging.DEBUG)\n",
    "\n",
    "logger.addHandler(console)"
   ]
  },
  {
   "cell_type": "code",
   "execution_count": null,
   "metadata": {
    "pycharm": {
     "is_executing": false
    }
   },
   "outputs": [],
   "source": [
    "%%time\n",
    "\n",
    "connection = SentimentConnection(host=host, port=port, client_id=user_name)\n",
    "logger.info(f'Supported domains')\n",
    "for domain in connection.supported_domains:    \n",
    "    logger.info(f'Domain: [{domain}]')"
   ]
  },
  {
   "cell_type": "markdown",
   "metadata": {},
   "source": [
    "# Standard Lexicon Sentiment Analysis"
   ]
  },
  {
   "cell_type": "markdown",
   "metadata": {},
   "source": [
    "### Setup results Processing"
   ]
  },
  {
   "cell_type": "code",
   "execution_count": null,
   "metadata": {},
   "outputs": [],
   "source": [
    "# simplified reviews\n",
    "reviews = ['I love this hello kitty decal! I like that the bow is pink instead of red. Only bad thing is that after putting it on the window theres a few air bubbles, but that most likely my fault. Shipped fast too.',\n",
    "           'I bought this for my 3 yr old daughter when I took it out the pack it had a bad oder, cute but very cheap material easy to ripe.  When I tried it on her it was to big, but of course she liked it so I kept it. I dressed her up in it and she looked cute.']\n",
    "\n",
    "# reviews with additional metadata - date, author, id\n",
    "documents = [\n",
    "        Document('I love this hello kitty decal! I like that the bow is pink instead of red. Only bad thing is that after putting it on the window theres a few air bubbles, but that most likely my fault. Shipped fast too.',\n",
    "                 '1',\n",
    "                 'Ben'),\n",
    "        Document('I bought this for my 3 yr old daughter when I took it out the pack it had a bad oder, cute but very cheap material easy to ripe.  When I tried it on her it was to big, but of course she liked it so I kept it. I dressed her up in it and she looked cute.',\n",
    "                 '2',\n",
    "                 'Ben',\n",
    "                 datetime(1995, 5, 2))\n",
    "        ]\n",
    "\n",
    "def process_result(domain, result):\n",
    "    if result['Stars'] is None:\n",
    "        logger.warning(f'{domain}: [{result[\"Id\"]}] No Sentinent')\n",
    "    else:\n",
    "        logger.info(f'{domain}: [{result[\"Id\"]}] Sentinment Stars: {result[\"Stars\"]:1.2f}')     \n",
    "        \n",
    "    for sentence in result['Sentences']:\n",
    "        for word in sentence['Words']:\n",
    "            if 'Value' in word:\n",
    "                logger.info(f\"[{word['Span']}] Sentiment: {word['Value']:1.2f}\")     \n"
   ]
  },
  {
   "cell_type": "markdown",
   "metadata": {},
   "source": [
    "### Analyse using standard sentiment lexicon"
   ]
  },
  {
   "cell_type": "code",
   "execution_count": null,
   "metadata": {},
   "outputs": [],
   "source": [
    "analysis = SentimentAnalysis(connection)\n",
    "analysis.on_message.subscribe(lambda result: process_result(domain, result))\n",
    "analysis.detect_sentiment_text(reviews)"
   ]
  },
  {
   "cell_type": "markdown",
   "metadata": {},
   "source": [
    "### Analyse using custom domain lexicons"
   ]
  },
  {
   "cell_type": "code",
   "execution_count": null,
   "metadata": {},
   "outputs": [],
   "source": [
    "for domain in connection.supported_domains:\n",
    "    # analyse using custom domain lexicons\n",
    "    analysis = SentimentAnalysis(connection, domain=domain)\n",
    "    analysis.on_message.subscribe(lambda result: process_result(domain, result))\n",
    "    analysis.detect_sentiment(documents)"
   ]
  },
  {
   "cell_type": "markdown",
   "metadata": {},
   "source": [
    "### Analysis Using Custom lexicon"
   ]
  },
  {
   "cell_type": "code",
   "execution_count": null,
   "metadata": {},
   "outputs": [],
   "source": [
    "lexicon = {'love': -3, 'bad oder': 3, 'bad': -1} # only this lexicon will be in use\n",
    "analysis = SentimentAnalysis(connection, lexicon=lexicon)\n",
    "analysis.on_message.subscribe(lambda result: process_result(domain, result))\n",
    "analysis.detect_sentiment_text(reviews)"
   ]
  },
  {
   "cell_type": "markdown",
   "metadata": {},
   "source": [
    "### Modification of existing lexicon"
   ]
  },
  {
   "cell_type": "code",
   "execution_count": null,
   "metadata": {},
   "outputs": [],
   "source": [
    "lexicon = {'love': -3, 'bad oder': 3} # lexicon modifaction\n",
    "\n",
    "# without modification\n",
    "analysis = SentimentAnalysis(connection, domain='medical')\n",
    "analysis.on_message.subscribe(lambda result: process_result('Medical', result))\n",
    "analysis.detect_sentiment(documents)\n",
    "\n",
    "# with modification\n",
    "analysis = SentimentAnalysis(connection, domain='medical', lexicon=lexicon, adjust_lexicon=True)\n",
    "analysis.on_message.subscribe(lambda result: process_result('Adjusted Medical', result))\n",
    "analysis.detect_sentiment(documents)"
   ]
  },
  {
   "cell_type": "code",
   "execution_count": null,
   "metadata": {},
   "outputs": [],
   "source": []
  }
 ],
 "metadata": {
  "kernelspec": {
   "display_name": "Python [conda env:.conda-tensor-gpu] *",
   "language": "python",
   "name": "conda-env-.conda-tensor-gpu-py"
  },
  "language_info": {
   "codemirror_mode": {
    "name": "ipython",
    "version": 3
   },
   "file_extension": ".py",
   "mimetype": "text/x-python",
   "name": "python",
   "nbconvert_exporter": "python",
   "pygments_lexer": "ipython3",
   "version": "3.7.6"
  }
 },
 "nbformat": 4,
 "nbformat_minor": 2
}
