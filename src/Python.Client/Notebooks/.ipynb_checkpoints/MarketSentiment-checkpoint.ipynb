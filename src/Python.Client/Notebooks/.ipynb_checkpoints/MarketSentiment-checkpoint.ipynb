{
 "cells": [
  {
   "cell_type": "code",
   "execution_count": 1,
   "metadata": {},
   "outputs": [],
   "source": [
    "from TestService import SentimentAnalysis"
   ]
  },
  {
   "cell_type": "code",
   "execution_count": 8,
   "metadata": {},
   "outputs": [],
   "source": [
    "documents = ['Huge loss reported.',\n",
    "             'Huge profit reported.']"
   ]
  },
  {
   "cell_type": "code",
   "execution_count": 9,
   "metadata": {},
   "outputs": [],
   "source": [
    "# with standard lexicon\n",
    "sentiment = SentimentAnalysis(documents, domain='market')"
   ]
  },
  {
   "cell_type": "code",
   "execution_count": 10,
   "metadata": {},
   "outputs": [
    {
     "name": "stdout",
     "output_type": "stream",
     "text": [
      "ID: 0 Sentiment Class: -1 Stars: 1.0\n",
      "ID: 1 Sentiment Class: 1 Stars: 5.0\n"
     ]
    }
   ],
   "source": [
    "for result in sentiment:\n",
    "    print('ID: {} Sentiment Class: {} Stars: {}'.format(result[0], result[1], result[2]['Stars']))"
   ]
  }
 ],
 "metadata": {
  "kernelspec": {
   "display_name": "Python 3",
   "language": "python",
   "name": "python3"
  },
  "language_info": {
   "codemirror_mode": {
    "name": "ipython",
    "version": 3
   },
   "file_extension": ".py",
   "mimetype": "text/x-python",
   "name": "python",
   "nbconvert_exporter": "python",
   "pygments_lexer": "ipython3",
   "version": "3.7.3"
  }
 },
 "nbformat": 4,
 "nbformat_minor": 2
}
