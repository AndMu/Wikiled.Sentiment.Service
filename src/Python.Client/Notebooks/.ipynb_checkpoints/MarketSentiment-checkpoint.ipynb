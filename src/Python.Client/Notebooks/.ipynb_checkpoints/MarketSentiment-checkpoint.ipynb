{
 "cells": [
  {
   "cell_type": "code",
   "execution_count": null,
   "metadata": {},
   "outputs": [],
   "source": [
    "!pip install nest_asyncio\n",
    "from logging.handlers import TimedRotatingFileHandler\n",
    "import logging.config\n",
    "from psenti import SentimentAnalysis, SentimentConnection, Document\n",
    "from sklearn import metrics\n",
    "from datetime import datetime\n",
    "import socket\n",
    "import json\n",
    "\n",
    "user_name = socket.gethostname()\n",
    "host = '127.0.0.1'\n",
    "port = 5000\n",
    "\n",
    "import nest_asyncio\n",
    "import asyncio\n",
    "nest_asyncio.apply(loop=asyncio.get_event_loop())\n",
    "\n",
    "logger = logging.getLogger('JupyterUI')\n",
    "logFormatter = logging.Formatter('%(asctime)s - [%(thread)s] [%(threadName)s]- %(name)s - %(levelname)s - %(message)s')\n",
    "logger.setLevel(logging.DEBUG)\n",
    "\n",
    "console = logging.StreamHandler()\n",
    "console.setFormatter(logFormatter)\n",
    "console.setLevel(logging.DEBUG)\n",
    "\n",
    "logger.addHandler(console)\n",
    "\n",
    "connection = SentimentConnection(host=host, port=port, client_id=user_name)"
   ]
  },
  {
   "cell_type": "code",
   "execution_count": null,
   "metadata": {},
   "outputs": [],
   "source": [
    "documents = ['Huge loss reported.',\n",
    "             'Huge profit reported.']\n",
    "\n",
    "def process_result(result):\n",
    "    if result['Stars'] is None:\n",
    "        logger.warning(f'{domain}: [{result[\"Id\"]}] No Sentinent')\n",
    "        return\n",
    "    \n",
    "    logger.info(f'[{result[\"Text\"]}] Sentinment Stars: {result[\"Stars\"]:1.2f}')             \n",
    "    for sentence in result['Sentences']:\n",
    "        for word in sentence['Words']:\n",
    "            if 'Value' in word:\n",
    "                logger.info(f\"[{word['Span']}] Sentiment: {word['Value']:1.2f}\")    "
   ]
  },
  {
   "cell_type": "code",
   "execution_count": null,
   "metadata": {},
   "outputs": [],
   "source": [
    "analysis = SentimentAnalysis(connection, domain='market')\n",
    "analysis.on_message.subscribe(lambda result: process_result(result))\n",
    "analysis.detect_sentiment_text(documents)"
   ]
  },
  {
   "cell_type": "code",
   "execution_count": null,
   "metadata": {},
   "outputs": [],
   "source": []
  }
 ],
 "metadata": {
  "kernelspec": {
   "display_name": "Python [conda env:.conda-tensor-gpu] *",
   "language": "python",
   "name": "conda-env-.conda-tensor-gpu-py"
  },
  "language_info": {
   "codemirror_mode": {
    "name": "ipython",
    "version": 3
   },
   "file_extension": ".py",
   "mimetype": "text/x-python",
   "name": "python",
   "nbconvert_exporter": "python",
   "pygments_lexer": "ipython3",
   "version": "3.7.6"
  }
 },
 "nbformat": 4,
 "nbformat_minor": 2
}
