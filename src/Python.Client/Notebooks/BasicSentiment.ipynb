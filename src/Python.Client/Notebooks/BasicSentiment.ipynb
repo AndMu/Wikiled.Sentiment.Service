{
 "cells": [
  {
   "cell_type": "code",
   "execution_count": 1,
   "metadata": {},
   "outputs": [],
   "source": [
    "from pysenti.service.sentiment import SentimentAnalysis, SentimentConnection"
   ]
  },
  {
   "cell_type": "code",
   "execution_count": 2,
   "metadata": {},
   "outputs": [],
   "source": [
    "documents = ['The British government has “no preconditions” for its Brexit talks with Labour’s Jeremy Corbyn, the Brexit secretary Steve Barclay has said, opening the door to a deal that would tie the UK more closely to the EU.',\n",
    "             'Oxford Nanopore, the gene analysis company, has told investors it plans a stock market listing within 12 months, handing a lifeline to fund manager Neil Woodford.']\n"
   ]
  },
  {
   "cell_type": "markdown",
   "metadata": {},
   "source": [
    "# Standard Lexicon Sentiment Analysis"
   ]
  },
  {
   "cell_type": "code",
   "execution_count": 4,
   "metadata": {},
   "outputs": [
    {
     "name": "stdout",
     "output_type": "stream",
     "text": [
      "{'DocumentTime': None, 'Id': 'ec172e25-b63f-4c59-955c-d46aa2b293f8', 'Text': 'Oxford Nanopore, the gene analysis company, has told investors it plans a stock market listing within 12 months, handing a lifeline to fund manager Neil Woodford. Oxford Nanopore, the gene analysis company, has told investors it plans a stock market listing within 12 months, handing a lifeline to fund manager Neil Woodford.', 'Stars': None, 'Status': 0, 'Sentences': [{'Index': 0, 'Text': 'Oxford Nanopore, the gene analysis company, has told investors it plans a stock market listing within 12 months, handing a lifeline to fund manager Neil Woodford.', 'Words': [{'Phrase': 'oxford nanopore', 'IsAspect': False, 'IsInvertor': False, 'IsInverted': False, 'IsStop': False, 'ItemText': 'oxford', 'Text': 'oxford', 'Raw': 'oxford', 'Type': 'NNP'}, {'Phrase': 'oxford nanopore', 'IsAspect': False, 'IsInvertor': False, 'IsInverted': False, 'IsStop': False, 'ItemText': 'nanopore', 'Text': 'nanopore', 'Raw': 'nanopore', 'Type': 'NNP'}, {'Phrase': 'the gene analysis company', 'IsAspect': False, 'IsInvertor': False, 'IsInverted': False, 'IsStop': True, 'ItemText': 'the', 'Text': 'the', 'Raw': 'the', 'Type': 'DT'}, {'Phrase': 'the gene analysis company', 'IsAspect': False, 'IsInvertor': False, 'IsInverted': False, 'IsStop': False, 'ItemText': 'gene', 'Text': 'gene', 'Raw': 'gene', 'Type': 'NN'}, {'Phrase': 'the gene analysis company', 'IsAspect': False, 'IsInvertor': False, 'IsInverted': False, 'IsStop': False, 'ItemText': 'analysis', 'Text': 'analysis', 'Raw': 'analysis', 'Type': 'NN'}, {'Phrase': 'the gene analysis company', 'IsAspect': False, 'IsInvertor': False, 'IsInverted': False, 'IsStop': False, 'ItemText': 'company', 'Text': 'company', 'Raw': 'company', 'Type': 'NN'}, {'Phrase': 'has told', 'IsAspect': False, 'IsInvertor': False, 'IsInverted': False, 'IsStop': True, 'ItemText': 'has', 'Text': 'has', 'Raw': 'has', 'Type': 'VBZ'}, {'Phrase': 'has told', 'IsAspect': False, 'IsInvertor': False, 'IsInverted': False, 'IsStop': False, 'ItemText': 'told', 'Text': 'told', 'Raw': 'told', 'Type': 'VBN'}, {'Phrase': 'investors it', 'IsAspect': False, 'IsInvertor': False, 'IsInverted': False, 'IsStop': False, 'ItemText': 'investors', 'Text': 'investors', 'Raw': 'investor', 'Type': 'NNS'}, {'Phrase': 'investors it', 'IsAspect': False, 'IsInvertor': False, 'IsInverted': False, 'IsStop': True, 'ItemText': 'it', 'Text': 'it', 'Raw': 'it', 'Type': 'PRP'}, {'Phrase': 'plans', 'IsAspect': False, 'IsInvertor': False, 'IsInverted': False, 'IsStop': False, 'ItemText': 'plans', 'Text': 'plans', 'Raw': 'plan', 'Type': 'VBZ'}, {'Phrase': 'a stock market listing', 'IsAspect': False, 'IsInvertor': False, 'IsInverted': False, 'IsStop': True, 'ItemText': 'a', 'Text': 'a', 'Raw': 'a', 'Type': 'DT'}, {'Phrase': 'a stock market listing', 'IsAspect': False, 'IsInvertor': False, 'IsInverted': False, 'IsStop': False, 'ItemText': 'stock', 'Text': 'stock', 'Raw': 'stock', 'Type': 'NN'}, {'Phrase': 'a stock market listing', 'IsAspect': False, 'IsInvertor': False, 'IsInverted': False, 'IsStop': False, 'ItemText': 'market', 'Text': 'market', 'Raw': 'market', 'Type': 'NN'}, {'Phrase': 'a stock market listing', 'IsAspect': False, 'IsInvertor': False, 'IsInverted': False, 'IsStop': False, 'ItemText': 'listing', 'Text': 'listing', 'Raw': 'list', 'Type': 'NN'}, {'Phrase': 'within', 'IsAspect': False, 'IsInvertor': False, 'IsInverted': False, 'IsStop': False, 'ItemText': 'within', 'Text': 'within', 'Raw': 'within', 'Type': 'IN'}, {'Phrase': '12 months', 'IsAspect': False, 'IsInvertor': False, 'IsInverted': False, 'IsStop': False, 'ItemText': '12', 'Text': '12', 'Raw': '12', 'Type': 'CD'}, {'Phrase': '12 months', 'IsAspect': False, 'IsInvertor': False, 'IsInverted': False, 'IsStop': False, 'ItemText': 'months', 'Text': 'months', 'Raw': 'month', 'Type': 'NNS'}, {'Phrase': 'handing', 'IsAspect': False, 'IsInvertor': False, 'IsInverted': False, 'IsStop': False, 'ItemText': 'handing', 'Text': 'handing', 'Raw': 'hand', 'Type': 'VBG'}, {'Phrase': 'a lifeline', 'IsAspect': False, 'IsInvertor': False, 'IsInverted': False, 'IsStop': True, 'ItemText': 'a', 'Text': 'a', 'Raw': 'a', 'Type': 'DT'}, {'Phrase': 'a lifeline', 'IsAspect': False, 'IsInvertor': False, 'IsInverted': False, 'IsStop': False, 'ItemText': 'lifeline', 'Text': 'lifeline', 'Raw': 'lifeline', 'Type': 'NN'}, {'Phrase': 'to', 'IsAspect': False, 'IsInvertor': False, 'IsInverted': False, 'IsStop': True, 'ItemText': 'to', 'Text': 'to', 'Raw': 'to', 'Type': 'TO'}, {'Phrase': 'fund manager neil woodford', 'IsAspect': False, 'IsInvertor': False, 'IsInverted': False, 'IsStop': False, 'ItemText': 'fund', 'Text': 'fund', 'Raw': 'fund', 'Type': 'NN'}, {'Phrase': 'fund manager neil woodford', 'IsAspect': False, 'IsInvertor': False, 'IsInverted': False, 'IsStop': False, 'ItemText': 'manager', 'Text': 'manager', 'Raw': 'manager', 'Type': 'NN'}, {'Phrase': 'fund manager neil woodford', 'IsAspect': False, 'IsInvertor': False, 'IsInverted': False, 'IsStop': False, 'ItemText': 'neil', 'Text': 'neil', 'Raw': 'neil', 'Type': 'NNP'}, {'Phrase': 'fund manager neil woodford', 'IsAspect': False, 'IsInvertor': False, 'IsInverted': False, 'IsStop': False, 'ItemText': 'woodford', 'Text': 'woodford', 'Raw': 'woodford', 'Type': 'NNP'}]}]}\n",
      "{'DocumentTime': None, 'Id': '41e39ec9-c0ee-4800-afcc-a2a55255f627', 'Text': 'The British government has “no preconditions” for its Brexit talks with Labour’s Jeremy Corbyn, the Brexit secretary Steve Barclay has said, opening the door to a deal that would tie the UK more closely to the EU. The British government has no preconditions for its Brexit talks with Labours Jeremy Corbyn, the Brexit secretary Steve Barclay has said, opening the door to a deal that would tie the UK more closely to the EU.', 'Stars': 1.0, 'Status': 0, 'Sentences': [{'Index': 0, 'Text': 'The British government has no preconditions for its Brexit talks with Labours Jeremy Corbyn, the Brexit secretary Steve Barclay has said, opening the door to a deal that would tie the UK more closely to the EU.', 'Words': [{'Phrase': 'the british government', 'IsAspect': False, 'IsInvertor': False, 'IsInverted': False, 'IsStop': True, 'ItemText': 'the', 'Text': 'the', 'Raw': 'the', 'Type': 'DT'}, {'Phrase': 'the british government', 'IsAspect': False, 'IsInvertor': False, 'IsInverted': False, 'IsStop': False, 'ItemText': 'british', 'Text': 'british', 'Raw': 'british', 'Type': 'JJ'}, {'Phrase': 'the british government', 'IsAspect': False, 'IsInvertor': False, 'IsInverted': False, 'IsStop': False, 'ItemText': 'government', 'Text': 'government', 'Raw': 'government', 'Type': 'NN'}, {'Phrase': 'has', 'IsAspect': False, 'IsInvertor': False, 'IsInverted': False, 'IsStop': True, 'ItemText': 'has', 'Text': 'has', 'Raw': 'has', 'Type': 'VBZ'}, {'Phrase': 'no preconditions', 'CalculatedValue': -1.0713568664486968, 'IsAspect': False, 'IsInvertor': True, 'IsInverted': False, 'IsStop': False, 'ItemText': 'no', 'Text': 'no', 'Raw': 'no', 'Type': 'DT', 'Value': -1.5}, {'Phrase': 'no preconditions', 'IsAspect': False, 'IsInvertor': False, 'IsInverted': True, 'IsStop': False, 'ItemText': 'preconditions', 'Text': 'preconditions', 'Raw': 'precondition', 'Type': 'NNS'}, {'Phrase': 'for', 'IsAspect': False, 'IsInvertor': False, 'IsInverted': False, 'IsStop': True, 'ItemText': 'for', 'Text': 'for', 'Raw': 'for', 'Type': 'IN'}, {'Phrase': 'its brexit talks', 'IsAspect': False, 'IsInvertor': False, 'IsInverted': False, 'IsStop': True, 'ItemText': 'its', 'Text': 'its', 'Raw': 'its', 'Type': 'PRP$'}, {'Phrase': 'its brexit talks', 'IsAspect': False, 'IsInvertor': False, 'IsInverted': False, 'IsStop': False, 'ItemText': 'brexit', 'Text': 'brexit', 'Raw': 'brexit', 'Type': 'NN'}, {'Phrase': 'its brexit talks', 'IsAspect': False, 'IsInvertor': False, 'IsInverted': False, 'IsStop': False, 'ItemText': 'talks', 'Text': 'talks', 'Raw': 'talk', 'Type': 'NNS'}, {'Phrase': 'with', 'IsAspect': False, 'IsInvertor': False, 'IsInverted': False, 'IsStop': True, 'ItemText': 'with', 'Text': 'with', 'Raw': 'with', 'Type': 'IN'}, {'Phrase': 'labours jeremy corbyn', 'IsAspect': False, 'IsInvertor': False, 'IsInverted': False, 'IsStop': False, 'ItemText': 'labours', 'Text': 'labours', 'Raw': 'labour', 'Type': 'NNP'}, {'Phrase': 'labours jeremy corbyn', 'IsAspect': False, 'IsInvertor': False, 'IsInverted': False, 'IsStop': False, 'ItemText': 'jeremy', 'Text': 'jeremy', 'Raw': 'jeremy', 'Type': 'NNP'}, {'Phrase': 'labours jeremy corbyn', 'IsAspect': False, 'IsInvertor': False, 'IsInverted': False, 'IsStop': False, 'ItemText': 'corbyn', 'Text': 'corbyn', 'Raw': 'corbyn', 'Type': 'NNP'}, {'Phrase': 'the brexit secretary steve barclay', 'IsAspect': False, 'IsInvertor': False, 'IsInverted': False, 'IsStop': True, 'ItemText': 'the', 'Text': 'the', 'Raw': 'the', 'Type': 'DT'}, {'Phrase': 'the brexit secretary steve barclay', 'IsAspect': False, 'IsInvertor': False, 'IsInverted': False, 'IsStop': False, 'ItemText': 'brexit', 'Text': 'brexit', 'Raw': 'brexit', 'Type': 'NN'}, {'Phrase': 'the brexit secretary steve barclay', 'IsAspect': False, 'IsInvertor': False, 'IsInverted': False, 'IsStop': False, 'ItemText': 'secretary', 'Text': 'secretary', 'Raw': 'secretary', 'Type': 'NN'}, {'Phrase': 'the brexit secretary steve barclay', 'IsAspect': False, 'IsInvertor': False, 'IsInverted': False, 'IsStop': False, 'ItemText': 'steve', 'Text': 'steve', 'Raw': 'steve', 'Type': 'NNP'}, {'Phrase': 'the brexit secretary steve barclay', 'IsAspect': False, 'IsInvertor': False, 'IsInverted': False, 'IsStop': False, 'ItemText': 'barclay', 'Text': 'barclay', 'Raw': 'barclay', 'Type': 'NNP'}, {'Phrase': 'has said', 'IsAspect': False, 'IsInvertor': False, 'IsInverted': False, 'IsStop': True, 'ItemText': 'has', 'Text': 'has', 'Raw': 'has', 'Type': 'VBZ'}, {'Phrase': 'has said', 'IsAspect': False, 'IsInvertor': False, 'IsInverted': False, 'IsStop': False, 'ItemText': 'said', 'Text': 'said', 'Raw': 'said', 'Type': 'VBD'}, {'Phrase': 'opening', 'IsAspect': False, 'IsInvertor': False, 'IsInverted': False, 'IsStop': False, 'ItemText': 'opening', 'Text': 'opening', 'Raw': 'open', 'Type': 'VBG'}, {'Phrase': 'the door', 'IsAspect': False, 'IsInvertor': False, 'IsInverted': False, 'IsStop': True, 'ItemText': 'the', 'Text': 'the', 'Raw': 'the', 'Type': 'DT'}, {'Phrase': 'the door', 'IsAspect': False, 'IsInvertor': False, 'IsInverted': False, 'IsStop': False, 'ItemText': 'door', 'Text': 'door', 'Raw': 'door', 'Type': 'NN'}, {'Phrase': 'to', 'IsAspect': False, 'IsInvertor': False, 'IsInverted': False, 'IsStop': True, 'ItemText': 'to', 'Text': 'to', 'Raw': 'to', 'Type': 'TO'}, {'Phrase': 'a deal that', 'IsAspect': False, 'IsInvertor': False, 'IsInverted': False, 'IsStop': True, 'ItemText': 'a', 'Text': 'a', 'Raw': 'a', 'Type': 'DT'}, {'Phrase': 'a deal that', 'IsAspect': False, 'IsInvertor': False, 'IsInverted': False, 'IsStop': False, 'ItemText': 'deal', 'Text': 'deal', 'Raw': 'deal', 'Type': 'NN'}, {'Phrase': 'a deal that', 'IsAspect': False, 'IsInvertor': False, 'IsInverted': False, 'IsStop': True, 'ItemText': 'that', 'Text': 'that', 'Raw': 'that', 'Type': 'WDT'}, {'Phrase': 'would tie', 'IsAspect': False, 'IsInvertor': False, 'IsInverted': False, 'IsStop': True, 'ItemText': 'would', 'Text': 'would', 'Raw': 'would', 'Type': 'MD'}, {'Phrase': 'would tie', 'IsAspect': False, 'IsInvertor': False, 'IsInverted': False, 'IsStop': False, 'ItemText': 'tie', 'Text': 'tie', 'Raw': 'tie', 'Type': 'VB'}, {'Phrase': 'the uk', 'IsAspect': False, 'IsInvertor': False, 'IsInverted': False, 'IsStop': True, 'ItemText': 'the', 'Text': 'the', 'Raw': 'the', 'Type': 'DT'}, {'Phrase': 'the uk', 'IsAspect': False, 'IsInvertor': False, 'IsInverted': False, 'IsStop': False, 'ItemText': 'uk', 'Text': 'uk', 'Raw': 'uk', 'Type': 'NN'}, {'Phrase': 'more closely', 'IsAspect': False, 'IsInvertor': False, 'IsInverted': False, 'IsStop': True, 'ItemText': 'more', 'Text': 'more', 'Raw': 'more', 'Type': 'RBR'}, {'Phrase': 'more closely', 'IsAspect': False, 'IsInvertor': False, 'IsInverted': False, 'IsStop': False, 'ItemText': 'closely', 'Text': 'closely', 'Raw': 'closely', 'Type': 'RB'}, {'Phrase': 'to', 'IsAspect': False, 'IsInvertor': False, 'IsInverted': False, 'IsStop': True, 'ItemText': 'to', 'Text': 'to', 'Raw': 'to', 'Type': 'TO'}, {'Phrase': 'the eu', 'IsAspect': False, 'IsInvertor': False, 'IsInverted': False, 'IsStop': True, 'ItemText': 'the', 'Text': 'the', 'Raw': 'the', 'Type': 'DT'}, {'Phrase': 'the eu', 'IsAspect': False, 'IsInvertor': False, 'IsInverted': False, 'IsStop': False, 'ItemText': 'eu', 'Text': 'eu', 'Raw': 'eu', 'Type': 'NNP'}]}]}\n"
     ]
    }
   ],
   "source": [
    "analysis = SentimentAnalysis(SentimentConnection('TestConnection17'), documents, model='Test')\n",
    "\n",
    "for result in analysis:\n",
    "    print(result)"
   ]
  },
  {
   "cell_type": "code",
   "execution_count": null,
   "metadata": {},
   "outputs": [],
   "source": []
  }
 ],
 "metadata": {
  "kernelspec": {
   "display_name": "Python 3",
   "language": "python",
   "name": "python3"
  },
  "language_info": {
   "codemirror_mode": {
    "name": "ipython",
    "version": 3
   },
   "file_extension": ".py",
   "mimetype": "text/x-python",
   "name": "python",
   "nbconvert_exporter": "python",
   "pygments_lexer": "ipython3",
   "version": "3.7.5"
  }
 },
 "nbformat": 4,
 "nbformat_minor": 2
}
