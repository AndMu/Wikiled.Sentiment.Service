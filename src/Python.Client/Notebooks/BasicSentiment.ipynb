{
 "cells": [
  {
   "cell_type": "markdown",
   "metadata": {},
   "source": [
    "# Sample Sentiment Analysis"
   ]
  },
  {
   "cell_type": "code",
   "execution_count": 1,
   "metadata": {},
   "outputs": [
    {
     "name": "stdout",
     "output_type": "stream",
     "text": [
      "Requirement already satisfied: nest_asyncio in c:\\users\\andrius.wikiled\\.conda\\envs\\tensor-gpu\\lib\\site-packages (1.2.1)\n"
     ]
    }
   ],
   "source": [
    "!pip install nest_asyncio"
   ]
  },
  {
   "cell_type": "code",
   "execution_count": 2,
   "metadata": {},
   "outputs": [],
   "source": [
    "from psenti import SentimentAnalysis, SentimentConnection, Document, add_logger\n",
    "from sklearn import metrics\n",
    "import socket\n",
    "import logging\n",
    "\n",
    "import nest_asyncio\n",
    "nest_asyncio.apply()\n",
    "\n",
    "logger = logging.getLogger('psenti')\n",
    "add_logger(logger)\n",
    "user_name = socket.gethostname()\n",
    "connection = SentimentConnection(host='192.168.0.70', port=7044, client_id=user_name)"
   ]
  },
  {
   "cell_type": "markdown",
   "metadata": {},
   "source": [
    "###  Supported Custom Domains"
   ]
  },
  {
   "cell_type": "code",
   "execution_count": 3,
   "metadata": {},
   "outputs": [
    {
     "name": "stdout",
     "output_type": "stream",
     "text": [
      "TwitterMarket\n",
      "TwitterTrump\n",
      "medical\n",
      "market\n"
     ]
    }
   ],
   "source": [
    "for domain in connection.supported_domains:\n",
    "    print(domain)"
   ]
  },
  {
   "cell_type": "markdown",
   "metadata": {},
   "source": [
    "# Standard Lexicon Sentiment Analysis"
   ]
  },
  {
   "cell_type": "code",
   "execution_count": 4,
   "metadata": {},
   "outputs": [
    {
     "name": "stderr",
     "output_type": "stream",
     "text": [
      "2019-12-15 19:09:43,007 - psenti.service - INFO - Detecting sentiment in 2 documents; domain [None]; cleaning [True]; model: [None] lexicon: [None]\n",
      "2019-12-15 19:09:43,475 - psenti.service - INFO - Connected!\n",
      "2019-12-15 19:09:43,476 - psenti.service - INFO - Sending first document batch\n",
      "2019-12-15 19:09:48,438 - psenti.service - INFO - Completed!\n"
     ]
    },
    {
     "name": "stdout",
     "output_type": "stream",
     "text": [
      "Sentinment Stars: 3.68\n",
      "Sentinment Stars: 3.58\n",
      "Wall time: 5.43 s\n"
     ]
    }
   ],
   "source": [
    "%%time\n",
    "\n",
    "amazon_reviews = ['I love this hello kitty decal! I like that the bow is pink instead of red. Only bad thing is that after putting it on the window theres a few air bubbles, but that most likely my fault. Shipped fast too.',\n",
    "                  'I bought this for my 3 yr old daughter when I took it out the pack it had a bad oder, cute but very cheap material easy to ripe.  When I tried it on her it was to big, but of course she liked it so I kept it. I dressed her up in it and she looked cute.']\n",
    "\n",
    "analysis = SentimentAnalysis(connection, domain=None, lexicon=None, clean=True, model=None)\n",
    "for result in analysis.detect_sentiment_text(amazon_reviews):\n",
    "    if result['Stars'] is None:\n",
    "        print('No Sentinent')\n",
    "    else:\n",
    "        print(f'Sentinment Stars: {result[\"Stars\"]:1.2f}')"
   ]
  },
  {
   "cell_type": "markdown",
   "metadata": {},
   "source": [
    "# Training Model\n",
    "## Testing Amazon reviews with default model"
   ]
  },
  {
   "cell_type": "code",
   "execution_count": 5,
   "metadata": {},
   "outputs": [
    {
     "name": "stderr",
     "output_type": "stream",
     "text": [
      "2019-12-15 19:09:51,961 - psenti.service - INFO - Detecting sentiment in 2000 documents; domain [None]; cleaning [True]; model: [None] lexicon: [None]\n",
      "2019-12-15 19:09:52,054 - psenti.service - INFO - Connected!\n",
      "2019-12-15 19:09:52,055 - psenti.service - INFO - Sending first document batch\n"
     ]
    },
    {
     "name": "stdout",
     "output_type": "stream",
     "text": [
      "Processig 2000 documents...\n"
     ]
    },
    {
     "name": "stderr",
     "output_type": "stream",
     "text": [
      "2019-12-15 19:09:59,119 - psenti.service - INFO - Sending document batch: 100\n",
      "2019-12-15 19:10:04,807 - psenti.service - INFO - Sending document batch: 100\n",
      "2019-12-15 19:10:10,553 - psenti.service - INFO - Sending document batch: 100\n",
      "2019-12-15 19:10:17,490 - psenti.service - INFO - Sending document batch: 100\n",
      "2019-12-15 19:10:25,321 - psenti.service - INFO - Sending document batch: 100\n",
      "2019-12-15 19:10:30,125 - psenti.service - INFO - Sending document batch: 100\n",
      "2019-12-15 19:10:35,233 - psenti.service - INFO - Sending document batch: 100\n",
      "2019-12-15 19:10:41,089 - psenti.service - INFO - Sending document batch: 100\n",
      "2019-12-15 19:10:46,434 - psenti.service - INFO - Sending document batch: 100\n",
      "2019-12-15 19:10:54,221 - psenti.service - INFO - Sending document batch: 100\n",
      "2019-12-15 19:10:59,814 - psenti.service - INFO - Sending document batch: 100\n",
      "2019-12-15 19:11:05,812 - psenti.service - INFO - Sending document batch: 100\n",
      "2019-12-15 19:11:12,017 - psenti.service - INFO - Sending document batch: 100\n",
      "2019-12-15 19:11:17,951 - psenti.service - INFO - Sending document batch: 100\n",
      "2019-12-15 19:11:23,478 - psenti.service - INFO - Sending document batch: 100\n",
      "2019-12-15 19:11:31,256 - psenti.service - INFO - Sending document batch: 100\n",
      "2019-12-15 19:11:36,208 - psenti.service - INFO - Sending document batch: 100\n",
      "2019-12-15 19:11:41,612 - psenti.service - INFO - Sending document batch: 100\n",
      "2019-12-15 19:11:48,203 - psenti.service - INFO - Sending document batch: 100\n",
      "2019-12-15 19:11:55,034 - psenti.service - INFO - Completed!\n"
     ]
    },
    {
     "name": "stdout",
     "output_type": "stream",
     "text": [
      "Total processed documents: 2000\n",
      "Accuracy: 0.7765\n",
      "Wall time: 2min 3s\n"
     ]
    }
   ],
   "source": [
    "%%time\n",
    "id = 0 \n",
    "all_amazon_documents = []\n",
    "true_document_class = {}\n",
    "with open('../data/amazon/positive.txt', \"r\", encoding='utf8') as reader:\n",
    "    for line in reader:\n",
    "        doc = Document(id, line)\n",
    "        doc.IsPositive = True\n",
    "        all_amazon_documents.append(doc)\n",
    "        true_document_class[doc.Id] = True\n",
    "        id += 1\n",
    "    \n",
    "with open('../data/amazon/negative.txt', \"r\", encoding='utf8') as reader:\n",
    "    for line in reader:\n",
    "        doc = Document(id, line)    \n",
    "        doc.IsPositive = False\n",
    "        all_amazon_documents.append(doc)\n",
    "        true_document_class[doc.Id] = False\n",
    "        id += 1\n",
    "    \n",
    "detected_document_class = {}\n",
    "print(f'Processig {len(all_amazon_documents)} documents...')\n",
    "\n",
    "analysis = SentimentAnalysis(connection, clean=True)\n",
    "\n",
    "for result in analysis.detect_sentiment(all_amazon_documents):\n",
    "    stars = result['Stars']    \n",
    "    id  = result['Id']\n",
    "    detected_document_class[id] = stars is not None and stars > 3\n",
    "    \n",
    "print(f'Total processed documents: {len(detected_document_class)}')\n",
    "\n",
    "test_y = [true_document_class[document.Id] for document in all_amazon_documents]\n",
    "result_y = [detected_document_class[document.Id] for document in all_amazon_documents]\n",
    "vacc = metrics.accuracy_score(test_y, result_y)\n",
    "print(f'Accuracy: {vacc}')\n"
   ]
  },
  {
   "cell_type": "markdown",
   "metadata": {},
   "source": [
    "## Saving Amazon reviews to train  model"
   ]
  },
  {
   "cell_type": "code",
   "execution_count": 6,
   "metadata": {},
   "outputs": [
    {
     "name": "stderr",
     "output_type": "stream",
     "text": [
      "2019-12-15 19:13:41,746 - psenti.service - INFO - Saving document [Amazon]: 2000...\n"
     ]
    },
    {
     "name": "stdout",
     "output_type": "stream",
     "text": [
      "Wall time: 7.42 s\n"
     ]
    }
   ],
   "source": [
    "%%time\n",
    "connection.save_documents('Amazon', all_amazon_documents)"
   ]
  },
  {
   "cell_type": "markdown",
   "metadata": {},
   "source": [
    "## Training Sentiment Analysis model"
   ]
  },
  {
   "cell_type": "code",
   "execution_count": null,
   "metadata": {},
   "outputs": [
    {
     "name": "stderr",
     "output_type": "stream",
     "text": [
      "2019-12-15 19:15:59,481 - psenti.service - INFO - Training Sentiment...\n",
      "2019-12-15 19:15:59,527 - psenti.service - INFO - Connected!\n",
      "2019-12-15 19:15:59,527 - psenti.service - INFO - Sending train request\n",
      "2019-12-15 19:28:37,706 - psenti.service - INFO - Completed!\n"
     ]
    },
    {
     "name": "stdout",
     "output_type": "stream",
     "text": [
      "Wall time: 12min 38s\n"
     ]
    }
   ],
   "source": [
    "%%time\n",
    "analysis = SentimentAnalysis(connection, clean=True)\n",
    "analysis.train('Amazon')"
   ]
  },
  {
   "cell_type": "markdown",
   "metadata": {},
   "source": [
    "## Testing with trained model"
   ]
  },
  {
   "cell_type": "code",
   "execution_count": null,
   "metadata": {},
   "outputs": [],
   "source": [
    "%%time\n",
    "analysis = SentimentAnalysis(connection, model='Amazon')\n",
    "for result in analysis.detect_sentiment(all_amazon_documents):\n",
    "    stars = result['Stars']    \n",
    "    id  = result['Id']\n",
    "    detected_document_class[id] = stars is not None and stars > 3\n",
    "    \n",
    "print(f'Total processed documents: {len(detected_document_class)}')\n",
    "\n",
    "test_y = [true_document_class[document.Id] for document in all_amazon_documents]\n",
    "result_y = [detected_document_class[document.Id] for document in all_amazon_documents]\n",
    "vacc = metrics.accuracy_score(test_y, result_y)\n",
    "print(f'Accuracy: {vacc}')"
   ]
  },
  {
   "cell_type": "code",
   "execution_count": null,
   "metadata": {},
   "outputs": [],
   "source": []
  }
 ],
 "metadata": {
  "kernelspec": {
   "display_name": "Python 3",
   "language": "python",
   "name": "python3"
  },
  "language_info": {
   "codemirror_mode": {
    "name": "ipython",
    "version": 3
   },
   "file_extension": ".py",
   "mimetype": "text/x-python",
   "name": "python",
   "nbconvert_exporter": "python",
   "pygments_lexer": "ipython3",
   "version": "3.7.5"
  }
 },
 "nbformat": 4,
 "nbformat_minor": 2
}
