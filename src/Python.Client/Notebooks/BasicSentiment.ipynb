{
 "cells": [
  {
   "cell_type": "code",
   "execution_count": 3,
   "metadata": {},
   "outputs": [],
   "source": [
    "from TestService import SentimentAnalysis"
   ]
  },
  {
   "cell_type": "code",
   "execution_count": 4,
   "metadata": {},
   "outputs": [],
   "source": [
    "documents = ['The British government has “no preconditions” for its Brexit talks with Labour’s Jeremy Corbyn, the Brexit secretary Steve Barclay has said, opening the door to a deal that would tie the UK more closely to the EU.',\n",
    "             'Oxford Nanopore, the gene analysis company, has told investors it plans a stock market listing within 12 months, handing a lifeline to fund manager Neil Woodford.']"
   ]
  },
  {
   "cell_type": "code",
   "execution_count": 5,
   "metadata": {},
   "outputs": [],
   "source": [
    "# with standard lexicon\n",
    "sentiment = SentimentAnalysis(documents)"
   ]
  },
  {
   "cell_type": "code",
   "execution_count": 11,
   "metadata": {},
   "outputs": [
    {
     "name": "stdout",
     "output_type": "stream",
     "text": [
      "ID: 1 Sentiment Class: 0 Stars: None\n",
      "ID: 0 Sentiment Class: -1 Stars: 1.0\n"
     ]
    }
   ],
   "source": [
    "for result in sentiment:\n",
    "    print('ID: {} Sentiment Class: {} Stars: {}'.format(result[0], result[1], result[2]['Stars']))"
   ]
  },
  {
   "cell_type": "code",
   "execution_count": null,
   "metadata": {},
   "outputs": [],
   "source": []
  }
 ],
 "metadata": {
  "kernelspec": {
   "display_name": "Python 3",
   "language": "python",
   "name": "python3"
  },
  "language_info": {
   "codemirror_mode": {
    "name": "ipython",
    "version": 3
   },
   "file_extension": ".py",
   "mimetype": "text/x-python",
   "name": "python",
   "nbconvert_exporter": "python",
   "pygments_lexer": "ipython3",
   "version": "3.6.7"
  }
 },
 "nbformat": 4,
 "nbformat_minor": 2
}
