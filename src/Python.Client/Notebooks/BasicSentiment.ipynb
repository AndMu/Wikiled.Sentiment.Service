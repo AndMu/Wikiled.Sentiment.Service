{
 "cells": [
  {
   "cell_type": "markdown",
   "metadata": {},
   "source": [
    "# Sample Sentiment Analysis"
   ]
  },
  {
   "cell_type": "code",
   "execution_count": 1,
   "metadata": {},
   "outputs": [],
   "source": [
    "from pysenti.service.sentiment import SentimentAnalysis, SentimentConnection, Document\n",
    "from sklearn import metrics\n",
    "import socket\n",
    "user_name = socket.gethostname()\n",
    "connection = SentimentConnection(user_name)"
   ]
  },
  {
   "cell_type": "markdown",
   "metadata": {},
   "source": [
    "###  Supported Custom Domains"
   ]
  },
  {
   "cell_type": "code",
   "execution_count": 2,
   "metadata": {},
   "outputs": [
    {
     "name": "stdout",
     "output_type": "stream",
     "text": [
      "market\n",
      "TwitterMarket\n",
      "TwitterTrump\n"
     ]
    }
   ],
   "source": [
    "for domain in connection.supported_domains:\n",
    "    print(domain)"
   ]
  },
  {
   "cell_type": "markdown",
   "metadata": {},
   "source": [
    "# Standard Lexicon Sentiment Analysis"
   ]
  },
  {
   "cell_type": "code",
   "execution_count": 3,
   "metadata": {},
   "outputs": [
    {
     "name": "stdout",
     "output_type": "stream",
     "text": [
      "3.58\n",
      "3.68\n",
      "Wall time: 1.04 s\n"
     ]
    }
   ],
   "source": [
    "%%time\n",
    "amazon_reviews = ['I love this hello kitty decal! I like that the bow is pink instead of red. Only bad thing is that after putting it on the window theres a few air bubbles, but that most likely my fault. Shipped fast too.',\n",
    "                  'I bought this for my 3 yr old daughter when I took it out the pack it had a bad oder, cute but very cheap material easy to ripe.  When I tried it on her it was to big, but of course she liked it so I kept it. I dressed her up in it and she looked cute.']\n",
    "\n",
    "analysis = SentimentAnalysis(connection)\n",
    "\n",
    "for result in analysis.detect_sentiment_text(amazon_reviews):\n",
    "    print(f'{result[\"Stars\"]:1.2f}')"
   ]
  },
  {
   "cell_type": "code",
   "execution_count": 4,
   "metadata": {},
   "outputs": [
    {
     "ename": "NameError",
     "evalue": "name 'documents' is not defined",
     "output_type": "error",
     "traceback": [
      "\u001b[1;31m---------------------------------------------------------------------------\u001b[0m",
      "\u001b[1;31mNameError\u001b[0m                                 Traceback (most recent call last)",
      "\u001b[1;32m<ipython-input-4-8dfc57cb08c4>\u001b[0m in \u001b[0;36m<module>\u001b[1;34m\u001b[0m\n\u001b[0;32m      1\u001b[0m \u001b[0manalysis\u001b[0m \u001b[1;33m=\u001b[0m \u001b[0mSentimentAnalysis\u001b[0m\u001b[1;33m(\u001b[0m\u001b[0mSentimentConnection\u001b[0m\u001b[1;33m(\u001b[0m\u001b[0muser_name\u001b[0m\u001b[1;33m)\u001b[0m\u001b[1;33m,\u001b[0m \u001b[0mmodel\u001b[0m\u001b[1;33m=\u001b[0m\u001b[1;34m'Test'\u001b[0m\u001b[1;33m)\u001b[0m\u001b[1;33m\u001b[0m\u001b[1;33m\u001b[0m\u001b[0m\n\u001b[0;32m      2\u001b[0m \u001b[1;33m\u001b[0m\u001b[0m\n\u001b[1;32m----> 3\u001b[1;33m \u001b[1;32mfor\u001b[0m \u001b[0mresult\u001b[0m \u001b[1;32min\u001b[0m \u001b[0manalysis\u001b[0m\u001b[1;33m.\u001b[0m\u001b[0mdetect_sentiment\u001b[0m\u001b[1;33m(\u001b[0m\u001b[0mdocuments\u001b[0m\u001b[1;33m)\u001b[0m\u001b[1;33m:\u001b[0m\u001b[1;33m\u001b[0m\u001b[1;33m\u001b[0m\u001b[0m\n\u001b[0m\u001b[0;32m      4\u001b[0m     \u001b[0mprint\u001b[0m\u001b[1;33m(\u001b[0m\u001b[0mresult\u001b[0m\u001b[1;33m[\u001b[0m\u001b[1;34m'Stars'\u001b[0m\u001b[1;33m]\u001b[0m\u001b[1;33m)\u001b[0m\u001b[1;33m\u001b[0m\u001b[1;33m\u001b[0m\u001b[0m\n",
      "\u001b[1;31mNameError\u001b[0m: name 'documents' is not defined"
     ]
    }
   ],
   "source": [
    "analysis = SentimentAnalysis(SentimentConnection(user_name), model='Test')\n",
    "\n",
    "for result in analysis.detect_sentiment(documents):\n",
    "    print(result['Stars'])"
   ]
  },
  {
   "cell_type": "code",
   "execution_count": 5,
   "metadata": {},
   "outputs": [
    {
     "name": "stdout",
     "output_type": "stream",
     "text": [
      "Processig 2000 documents...\n",
      "Total processed documents: 2000\n",
      "Accuracy: 0.776\n",
      "Wall time: 11.4 s\n"
     ]
    }
   ],
   "source": [
    "%%time\n",
    "id = 0 \n",
    "all_amazon_documents = []\n",
    "true_document_class = {}\n",
    "with open('../data/amazon/positive.txt', \"r\", encoding='utf8') as reader:\n",
    "    for line in reader:\n",
    "        doc = Document(id, line)\n",
    "        doc.isPositive = True\n",
    "        all_amazon_documents.append(doc)\n",
    "        true_document_class[doc.id] = True\n",
    "        id += 1\n",
    "    \n",
    "with open('../data/amazon/negative.txt', \"r\", encoding='utf8') as reader:\n",
    "    for line in reader:\n",
    "        doc = Document(id, line)    \n",
    "        doc.isPositive = False\n",
    "        all_amazon_documents.append(doc)\n",
    "        true_document_class[doc.id] = False\n",
    "        id += 1\n",
    "    \n",
    "detected_document_class = {}\n",
    "print(f'Processig {len(all_amazon_documents)} documents...')\n",
    "analysis = SentimentAnalysis(connection)\n",
    "for result in analysis.detect_sentiment(all_amazon_documents):\n",
    "    stars = result['Stars']    \n",
    "    id  = result['Id']\n",
    "    detected_document_class[id] = stars is not None and stars > 3\n",
    "    \n",
    "print(f'Total processed documents: {len(detected_document_class)}')\n",
    "\n",
    "test_y = [true_document_class[document.id] for document in all_amazon_documents]\n",
    "result_y = [detected_document_class[document.id] for document in all_amazon_documents]\n",
    "vacc = metrics.accuracy_score(test_y, result_y)\n",
    "print(f'Accuracy: {vacc}')\n",
    "\n",
    "#"
   ]
  },
  {
   "cell_type": "code",
   "execution_count": 6,
   "metadata": {},
   "outputs": [
    {
     "name": "stdout",
     "output_type": "stream",
     "text": [
      "Wall time: 3.14 s\n"
     ]
    }
   ],
   "source": [
    "%%time\n",
    "connection.save_documents('Amazon', all_amazon_documents)\n",
    "analysis = SentimentAnalysis(connection)"
   ]
  },
  {
   "cell_type": "code",
   "execution_count": 12,
   "metadata": {},
   "outputs": [
    {
     "name": "stdout",
     "output_type": "stream",
     "text": [
      "Wall time: 19.3 s\n"
     ]
    }
   ],
   "source": [
    "%%time\n",
    "analysis.train('Amazon')"
   ]
  },
  {
   "cell_type": "code",
   "execution_count": 14,
   "metadata": {},
   "outputs": [
    {
     "name": "stdout",
     "output_type": "stream",
     "text": [
      "Total processed documents: 2000\n",
      "Accuracy: 0.89\n",
      "Wall time: 1min 1s\n"
     ]
    }
   ],
   "source": [
    "%%time\n",
    "analysis = SentimentAnalysis(connection, model='Amazon')\n",
    "for result in analysis.detect_sentiment(all_amazon_documents):\n",
    "    stars = result['Stars']    \n",
    "    id  = result['Id']\n",
    "    detected_document_class[id] = stars is not None and stars > 3\n",
    "    \n",
    "print(f'Total processed documents: {len(detected_document_class)}')\n",
    "\n",
    "test_y = [true_document_class[document.id] for document in all_amazon_documents]\n",
    "result_y = [detected_document_class[document.id] for document in all_amazon_documents]\n",
    "vacc = metrics.accuracy_score(test_y, result_y)\n",
    "print(f'Accuracy: {vacc}')"
   ]
  },
  {
   "cell_type": "code",
   "execution_count": null,
   "metadata": {},
   "outputs": [],
   "source": []
  }
 ],
 "metadata": {
  "kernelspec": {
   "display_name": "Python 3",
   "language": "python",
   "name": "python3"
  },
  "language_info": {
   "codemirror_mode": {
    "name": "ipython",
    "version": 3
   },
   "file_extension": ".py",
   "mimetype": "text/x-python",
   "name": "python",
   "nbconvert_exporter": "python",
   "pygments_lexer": "ipython3",
   "version": "3.7.5"
  }
 },
 "nbformat": 4,
 "nbformat_minor": 2
}
