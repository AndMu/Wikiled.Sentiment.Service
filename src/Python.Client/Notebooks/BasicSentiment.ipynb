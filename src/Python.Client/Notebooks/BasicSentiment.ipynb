{
 "cells": [
  {
   "cell_type": "markdown",
   "metadata": {},
   "source": [
    "# Sample Sentiment Analysis"
   ]
  },
  {
   "cell_type": "code",
   "execution_count": 1,
   "metadata": {},
   "outputs": [
    {
     "name": "stdout",
     "output_type": "stream",
     "text": [
      "Requirement already satisfied: nest_asyncio in c:\\users\\andrius.wikiled\\.conda\\envs\\tensor-gpu\\lib\\site-packages (1.2.1)\n"
     ]
    }
   ],
   "source": [
    "!pip install nest_asyncio"
   ]
  },
  {
   "cell_type": "code",
   "execution_count": 2,
   "metadata": {},
   "outputs": [
    {
     "name": "stdout",
     "output_type": "stream",
     "text": [
      "TwitterMarket\n",
      "TwitterTrump\n",
      "medical\n",
      "market\n"
     ]
    }
   ],
   "source": [
    "from psenti import SentimentAnalysis, SentimentConnection, Document, add_logger\n",
    "from sklearn import metrics\n",
    "import socket\n",
    "import logging\n",
    "\n",
    "import nest_asyncio\n",
    "nest_asyncio.apply()\n",
    "\n",
    "logger = logging.getLogger('psenti')\n",
    "add_logger(logger, level=logging.INFO)\n",
    "user_name = socket.gethostname()\n",
    "host = 'sentiment2.wikiled.com'\n",
    "port=80\n",
    "with SentimentConnection(host=host, port=port, client_id=user_name) as connection:\n",
    "    for domain in connection.supported_domains:\n",
    "        print(domain)"
   ]
  },
  {
   "cell_type": "markdown",
   "metadata": {},
   "source": [
    "# Standard Lexicon Sentiment Analysis"
   ]
  },
  {
   "cell_type": "code",
   "execution_count": 3,
   "metadata": {},
   "outputs": [
    {
     "name": "stderr",
     "output_type": "stream",
     "text": [
      "2020-01-08 23:41:50,418 - psenti.service - INFO - Detecting sentiment in 2 documents; Domain [None]; Cleaning [True]; Model: [None] Lexicon: [None]\n",
      "2020-01-08 23:41:50,464 - psenti.service - INFO - Connected!\n",
      "2020-01-08 23:41:50,465 - psenti.service - INFO - Sending first document batch\n",
      "2020-01-08 23:41:51,583 - psenti.service - INFO - Completed!\n"
     ]
    },
    {
     "name": "stdout",
     "output_type": "stream",
     "text": [
      "Sentinment Stars: 3.58\n",
      "Sentinment Stars: 3.68\n",
      "Wall time: 1.35 s\n"
     ]
    }
   ],
   "source": [
    "%%time\n",
    "reviews = ['I love this hello kitty decal! I like that the bow is pink instead of red. Only bad thing is that after putting it on the window theres a few air bubbles, but that most likely my fault. Shipped fast too.',\n",
    "                  'I bought this for my 3 yr old daughter when I took it out the pack it had a bad oder, cute but very cheap material easy to ripe.  When I tried it on her it was to big, but of course she liked it so I kept it. I dressed her up in it and she looked cute.']\n",
    "\n",
    "user_name = socket.gethostname()\n",
    "host = 'sentiment2.wikiled.com'\n",
    "port=80\n",
    "with SentimentConnection(host=host, port=port, client_id=user_name) as connection:\n",
    "    analysis = SentimentAnalysis(connection, domain='market')\n",
    "    for result in analysis.detect_sentiment_text(amazon_reviews):\n",
    "        if result['Stars'] is None:\n",
    "            print('No Sentinent')\n",
    "        else:\n",
    "            print(f'Sentinment Stars: {result[\"Stars\"]:1.2f}')"
   ]
  },
  {
   "cell_type": "markdown",
   "metadata": {},
   "source": [
    "# Training Model\n",
    "## Testing Amazon reviews with default model"
   ]
  },
  {
   "cell_type": "code",
   "execution_count": 11,
   "metadata": {},
   "outputs": [
    {
     "name": "stdout",
     "output_type": "stream",
     "text": [
      "Using 600 test documents...\n"
     ]
    },
    {
     "name": "stderr",
     "output_type": "stream",
     "text": [
      "2019-12-22 22:56:54,463 - psenti.service - INFO - Detecting sentiment in 600 documents; Domain [None]; Cleaning [True]; Model: [None] Lexicon: [None]\n",
      "2019-12-22 22:56:54,511 - psenti.service - INFO - Connected!\n",
      "2019-12-22 22:56:54,512 - psenti.service - INFO - Sending first document batch\n",
      "2019-12-22 22:56:59,334 - psenti.service - INFO - Sending document batch: 100\n",
      "2019-12-22 22:57:04,745 - psenti.service - INFO - Sending document batch: 100\n",
      "2019-12-22 22:57:10,183 - psenti.service - INFO - Sending document batch: 100\n",
      "2019-12-22 22:57:15,406 - psenti.service - INFO - Sending document batch: 100\n",
      "2019-12-22 22:57:19,580 - psenti.service - INFO - Sending document batch: 100\n",
      "2019-12-22 22:57:24,427 - psenti.service - INFO - Completed!\n"
     ]
    },
    {
     "name": "stdout",
     "output_type": "stream",
     "text": [
      "Total processed documents: 600\n",
      "Accuracy: 0.74\n",
      "Wall time: 30.5 s\n"
     ]
    }
   ],
   "source": [
    "%%time\n",
    "from sklearn.model_selection import train_test_split\n",
    "\n",
    "id = 0 \n",
    "all_amazon_documents = []\n",
    "true_document_class = {}\n",
    "with open('../data/amazon/positive.txt', \"r\", encoding='utf8') as reader:\n",
    "    for line in reader:\n",
    "        doc = Document(id, line)\n",
    "        doc.IsPositive = True\n",
    "        all_amazon_documents.append(doc)\n",
    "        true_document_class[doc.Id] = True\n",
    "        id += 1\n",
    "    \n",
    "with open('../data/amazon/negative.txt', \"r\", encoding='utf8') as reader:\n",
    "    for line in reader:\n",
    "        doc = Document(id, line)    \n",
    "        doc.IsPositive = False\n",
    "        all_amazon_documents.append(doc)\n",
    "        true_document_class[doc.Id] = False\n",
    "        id += 1\n",
    "    \n",
    "detected_document_class = {}\n",
    "train_doc, test_doc = train_test_split(all_amazon_documents, test_size=0.3)\n",
    "def Test_Amazon(model=None):\n",
    "    print(f'Using {len(test_doc)} test documents...')\n",
    "\n",
    "    with SentimentConnection(host=host, port=port, client_id=user_name) as connection:\n",
    "        analysis = SentimentAnalysis(connection, model=model, clean=True)\n",
    "\n",
    "        for result in analysis.detect_sentiment(test_doc):\n",
    "            stars = result['Stars']    \n",
    "            id  = result['Id']\n",
    "            detected_document_class[id] = stars is not None and stars > 3\n",
    "\n",
    "    print(f'Total processed documents: {len(detected_document_class)}')\n",
    "\n",
    "    test_y = [true_document_class[document.Id] for document in test_doc]\n",
    "    result_y = [detected_document_class[document.Id] for document in test_doc]\n",
    "    vacc = metrics.accuracy_score(test_y, result_y)\n",
    "    print(f'Accuracy: {vacc:1.2f}')\n",
    "    \n",
    "\n",
    "Test_Amazon()\n"
   ]
  },
  {
   "cell_type": "markdown",
   "metadata": {},
   "source": [
    "## Training Sentiment Analysis model"
   ]
  },
  {
   "cell_type": "code",
   "execution_count": 9,
   "metadata": {},
   "outputs": [
    {
     "name": "stderr",
     "output_type": "stream",
     "text": [
      "2019-12-22 22:54:18,992 - psenti.service - INFO - Saving document [Amazon2]: 1400...\n",
      "2019-12-22 22:54:20,123 - psenti.service - INFO - Training Sentiment...\n",
      "2019-12-22 22:54:20,141 - psenti.service - INFO - Connected!\n",
      "2019-12-22 22:54:20,142 - psenti.service - INFO - Sending train request\n",
      "2019-12-22 22:55:41,598 - psenti.service - INFO - Completed!\n"
     ]
    },
    {
     "name": "stdout",
     "output_type": "stream",
     "text": [
      "Wall time: 1min 22s\n"
     ]
    }
   ],
   "source": [
    "%%time\n",
    "with SentimentConnection(host=host, port=port, client_id=user_name) as connection:\n",
    "    connection.save_documents('Amazon2', train_doc)\n",
    "    analysis = SentimentAnalysis(connection, clean=True)\n",
    "    analysis.train('Amazon2')"
   ]
  },
  {
   "cell_type": "markdown",
   "metadata": {},
   "source": [
    "## Testing with trained model"
   ]
  },
  {
   "cell_type": "code",
   "execution_count": 13,
   "metadata": {},
   "outputs": [
    {
     "name": "stderr",
     "output_type": "stream",
     "text": [
      "2019-12-22 22:57:51,684 - psenti.service - INFO - Detecting sentiment in 600 documents; Domain [None]; Cleaning [True]; Model: [Amazon2] Lexicon: [None]\n",
      "2019-12-22 22:57:51,716 - psenti.service - INFO - Connected!\n",
      "2019-12-22 22:57:51,717 - psenti.service - INFO - Sending first document batch\n"
     ]
    },
    {
     "name": "stdout",
     "output_type": "stream",
     "text": [
      "Using 600 test documents...\n"
     ]
    },
    {
     "name": "stderr",
     "output_type": "stream",
     "text": [
      "2019-12-22 22:57:52,767 - psenti.service - INFO - Sending document batch: 100\n",
      "2019-12-22 22:57:53,772 - psenti.service - INFO - Sending document batch: 100\n",
      "2019-12-22 22:57:54,877 - psenti.service - INFO - Sending document batch: 100\n",
      "2019-12-22 22:57:55,924 - psenti.service - INFO - Sending document batch: 100\n",
      "2019-12-22 22:57:56,912 - psenti.service - INFO - Sending document batch: 100\n",
      "2019-12-22 22:57:57,882 - psenti.service - INFO - Completed!\n"
     ]
    },
    {
     "name": "stdout",
     "output_type": "stream",
     "text": [
      "Total processed documents: 600\n",
      "Accuracy: 0.83\n",
      "Wall time: 6.32 s\n"
     ]
    }
   ],
   "source": [
    "%%time\n",
    "Test_Amazon('Amazon2')"
   ]
  },
  {
   "cell_type": "code",
   "execution_count": null,
   "metadata": {},
   "outputs": [],
   "source": []
  }
 ],
 "metadata": {
  "kernelspec": {
   "display_name": "Python 3",
   "language": "python",
   "name": "python3"
  },
  "language_info": {
   "codemirror_mode": {
    "name": "ipython",
    "version": 3
   },
   "file_extension": ".py",
   "mimetype": "text/x-python",
   "name": "python",
   "nbconvert_exporter": "python",
   "pygments_lexer": "ipython3",
   "version": "3.7.5"
  }
 },
 "nbformat": 4,
 "nbformat_minor": 2
}
