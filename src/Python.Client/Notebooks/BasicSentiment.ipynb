{
 "cells": [
  {
   "cell_type": "markdown",
   "metadata": {},
   "source": [
    "# Sample Sentiment Analysis"
   ]
  },
  {
   "cell_type": "code",
   "execution_count": 1,
   "metadata": {
    "pycharm": {
     "is_executing": false
    }
   },
   "outputs": [
    {
     "name": "stdout",
     "output_type": "stream",
     "text": [
      "Requirement already satisfied: nest_asyncio in c:\\programdata\\anaconda3\\lib\\site-packages (1.3.3)\n"
     ]
    }
   ],
   "source": [
    "!pip install nest_asyncio\n",
    "from logging.handlers import TimedRotatingFileHandler\n",
    "import logging.config\n",
    "from psenti import SentimentAnalysis, SentimentConnection, Document\n",
    "from sklearn import metrics\n",
    "from datetime import datetime\n",
    "import socket\n",
    "import json\n",
    "\n",
    "user_name = socket.gethostname()\n",
    "host = '127.0.0.1'\n",
    "port = 5000\n",
    "\n",
    "import nest_asyncio\n",
    "import asyncio\n",
    "nest_asyncio.apply(loop=asyncio.get_event_loop())\n",
    "\n",
    "logger = logging.getLogger('JupyterUI')\n",
    "logFormatter = logging.Formatter('%(asctime)s - [%(thread)s] [%(threadName)s]- %(name)s - %(levelname)s - %(message)s')\n",
    "logger.setLevel(logging.DEBUG)\n",
    "\n",
    "console = logging.StreamHandler()\n",
    "console.setFormatter(logFormatter)\n",
    "console.setLevel(logging.DEBUG)\n",
    "\n",
    "logger.addHandler(console)"
   ]
  },
  {
   "cell_type": "code",
   "execution_count": 3,
   "metadata": {
    "pycharm": {
     "is_executing": false
    }
   },
   "outputs": [
    {
     "name": "stderr",
     "output_type": "stream",
     "text": [
      "2020-06-17 22:51:35,183 - [87544] [MainThread]- JupyterUI - INFO - Supported domains\n"
     ]
    },
    {
     "ename": "AttributeError",
     "evalue": "'SentimentConnection' object has no attribute 'supported_domains'",
     "output_type": "error",
     "traceback": [
      "\u001b[1;31m---------------------------------------------------------------------------\u001b[0m",
      "\u001b[1;31mAttributeError\u001b[0m                            Traceback (most recent call last)",
      "\u001b[1;32m<timed exec>\u001b[0m in \u001b[0;36m<module>\u001b[1;34m\u001b[0m\n",
      "\u001b[1;31mAttributeError\u001b[0m: 'SentimentConnection' object has no attribute 'supported_domains'"
     ]
    }
   ],
   "source": [
    "%%time\n",
    "\n",
    "connection = SentimentConnection(host=host, port=port, client_id=user_name)\n",
    "logger.info(f'Supported domains')\n",
    "for domain in connection.supported_domains:    \n",
    "    logger.info(f'Domain: [{domain}]')"
   ]
  },
  {
   "cell_type": "markdown",
   "metadata": {},
   "source": [
    "# Standard Lexicon Sentiment Analysis"
   ]
  },
  {
   "cell_type": "markdown",
   "metadata": {},
   "source": [
    "### Setup results Processing"
   ]
  },
  {
   "cell_type": "code",
   "execution_count": 3,
   "metadata": {},
   "outputs": [],
   "source": [
    "# simplified reviews\n",
    "reviews = ['I love this hello kitty decal! I like that the bow is pink instead of red. Only bad thing is that after putting it on the window theres a few air bubbles, but that most likely my fault. Shipped fast too.',\n",
    "           'I bought this for my 3 yr old daughter when I took it out the pack it had a bad oder, cute but very cheap material easy to ripe.  When I tried it on her it was to big, but of course she liked it so I kept it. I dressed her up in it and she looked cute.']\n",
    "\n",
    "# reviews with additional metadata - date, author, id\n",
    "documents = [\n",
    "        Document('I love this hello kitty decal! I like that the bow is pink instead of red. Only bad thing is that after putting it on the window theres a few air bubbles, but that most likely my fault. Shipped fast too.',\n",
    "                 '1',\n",
    "                 'Ben'),\n",
    "        Document('I bought this for my 3 yr old daughter when I took it out the pack it had a bad oder, cute but very cheap material easy to ripe.  When I tried it on her it was to big, but of course she liked it so I kept it. I dressed her up in it and she looked cute.',\n",
    "                 '2',\n",
    "                 'Ben',\n",
    "                 datetime(1995, 5, 2))\n",
    "        ]\n",
    "\n",
    "def process_result(domain, result):\n",
    "    if result['Stars'] is None:\n",
    "        logger.warning(f'{domain}: [{result[\"Id\"]}] No Sentinent')\n",
    "    else:\n",
    "        logger.info(f'{domain}: [{result[\"Id\"]}] Sentinment Stars: {result[\"Stars\"]:1.2f}')     \n",
    "        \n",
    "    for sentence in result['Sentences']:\n",
    "        for word in sentence['Words']:\n",
    "            if 'Value' in word:\n",
    "                logger.info(f\"[{word['Span']}] Sentiment: {word['Value']:1.2f}\")     \n"
   ]
  },
  {
   "cell_type": "markdown",
   "metadata": {},
   "source": [
    "### Analyse using standard sentiment lexicon"
   ]
  },
  {
   "cell_type": "code",
   "execution_count": 4,
   "metadata": {},
   "outputs": [
    {
     "name": "stderr",
     "output_type": "stream",
     "text": [
      "2020-05-29 10:29:30,209 - [49832] [MainThread]- JupyterUI - INFO - market: [039fc641-ef3a-49d8-bf70-024a7cc96040] Sentinment Stars: 3.58\n",
      "2020-05-29 10:29:30,209 - [49832] [MainThread]- JupyterUI - INFO - [love] Sentiment: 3.00\n",
      "2020-05-29 10:29:30,210 - [49832] [MainThread]- JupyterUI - INFO - [like] Sentiment: 2.00\n",
      "2020-05-29 10:29:30,210 - [49832] [MainThread]- JupyterUI - INFO - [bad] Sentiment: -2.00\n",
      "2020-05-29 10:29:30,211 - [49832] [MainThread]- JupyterUI - INFO - [fault] Sentiment: -2.00\n",
      "2020-05-29 10:29:30,211 - [49832] [MainThread]- JupyterUI - INFO - [fast] Sentiment: 1.00\n",
      "2020-05-29 10:29:30,212 - [49832] [MainThread]- JupyterUI - INFO - market: [a3310b0c-ea64-48a3-8dfd-c1da91c337b2] Sentinment Stars: 3.68\n",
      "2020-05-29 10:29:30,213 - [49832] [MainThread]- JupyterUI - INFO - [bad] Sentiment: -2.00\n",
      "2020-05-29 10:29:30,213 - [49832] [MainThread]- JupyterUI - INFO - [cute] Sentiment: 2.00\n",
      "2020-05-29 10:29:30,214 - [49832] [MainThread]- JupyterUI - INFO - [cheap] Sentiment: -3.00\n",
      "2020-05-29 10:29:30,214 - [49832] [MainThread]- JupyterUI - INFO - [easy] Sentiment: 1.00\n",
      "2020-05-29 10:29:30,215 - [49832] [MainThread]- JupyterUI - INFO - [liked] Sentiment: 3.00\n",
      "2020-05-29 10:29:30,215 - [49832] [MainThread]- JupyterUI - INFO - [cute] Sentiment: 2.00\n"
     ]
    }
   ],
   "source": [
    "analysis = SentimentAnalysis(connection)\n",
    "analysis.on_message.subscribe(lambda result: process_result(domain, result))\n",
    "analysis.detect_sentiment_text(reviews)"
   ]
  },
  {
   "cell_type": "markdown",
   "metadata": {},
   "source": [
    "### Analyse using custom domain lexicons"
   ]
  },
  {
   "cell_type": "code",
   "execution_count": 5,
   "metadata": {},
   "outputs": [
    {
     "name": "stderr",
     "output_type": "stream",
     "text": [
      "2020-05-29 10:29:31,081 - [49832] [MainThread]- JupyterUI - INFO - TwitterMarket: [2] Sentinment Stars: 4.54\n",
      "2020-05-29 10:29:31,082 - [49832] [MainThread]- JupyterUI - INFO - [bad] Sentiment: -2.00\n",
      "2020-05-29 10:29:31,082 - [49832] [MainThread]- JupyterUI - INFO - [cheap] Sentiment: 1.81\n",
      "2020-05-29 10:29:31,083 - [49832] [MainThread]- JupyterUI - INFO - [easy] Sentiment: 2.00\n",
      "2020-05-29 10:29:31,083 - [49832] [MainThread]- JupyterUI - INFO - [up] Sentiment: 2.00\n",
      "2020-05-29 10:29:31,084 - [49832] [MainThread]- JupyterUI - INFO - TwitterMarket: [1] Sentinment Stars: 1.00\n",
      "2020-05-29 10:29:31,084 - [49832] [MainThread]- JupyterUI - INFO - [bad] Sentiment: -2.00\n",
      "2020-05-29 10:29:31,085 - [49832] [MainThread]- JupyterUI - INFO - [fault] Sentiment: -2.00\n",
      "2020-05-29 10:29:31,193 - [49832] [MainThread]- JupyterUI - INFO - TwitterTrump: [1] Sentinment Stars: 1.44\n",
      "2020-05-29 10:29:31,194 - [49832] [MainThread]- JupyterUI - INFO - [like] Sentiment: -1.26\n",
      "2020-05-29 10:29:31,195 - [49832] [MainThread]- JupyterUI - INFO - [bad] Sentiment: -1.40\n",
      "2020-05-29 10:29:31,195 - [49832] [MainThread]- JupyterUI - INFO - [fault] Sentiment: -1.39\n",
      "2020-05-29 10:29:31,196 - [49832] [MainThread]- JupyterUI - INFO - [fast] Sentiment: 1.37\n",
      "2020-05-29 10:29:31,197 - [49832] [MainThread]- JupyterUI - INFO - TwitterTrump: [2] Sentinment Stars: 1.00\n",
      "2020-05-29 10:29:31,197 - [49832] [MainThread]- JupyterUI - INFO - [bad] Sentiment: -1.40\n",
      "2020-05-29 10:29:31,198 - [49832] [MainThread]- JupyterUI - INFO - [cheap] Sentiment: -1.88\n",
      "2020-05-29 10:29:31,199 - [49832] [MainThread]- JupyterUI - INFO - [like] Sentiment: -1.26\n",
      "2020-05-29 10:29:31,263 - [49832] [MainThread]- JupyterUI - INFO - medical: [2] Sentinment Stars: 4.33\n",
      "2020-05-29 10:29:31,263 - [49832] [MainThread]- JupyterUI - INFO - [bad] Sentiment: -1.99\n",
      "2020-05-29 10:29:31,264 - [49832] [MainThread]- JupyterUI - INFO - [cheap] Sentiment: 3.00\n",
      "2020-05-29 10:29:31,265 - [49832] [MainThread]- JupyterUI - INFO - [easy] Sentiment: 2.00\n",
      "2020-05-29 10:29:31,265 - [49832] [MainThread]- JupyterUI - INFO - medical: [1] Sentinment Stars: 3.95\n",
      "2020-05-29 10:29:31,266 - [49832] [MainThread]- JupyterUI - INFO - [love] Sentiment: 1.85\n",
      "2020-05-29 10:29:31,266 - [49832] [MainThread]- JupyterUI - INFO - [bad] Sentiment: -1.99\n",
      "2020-05-29 10:29:31,267 - [49832] [MainThread]- JupyterUI - INFO - [fast] Sentiment: 1.99\n",
      "2020-05-29 10:29:31,331 - [49832] [MainThread]- JupyterUI - INFO - market: [1] Sentinment Stars: 1.00\n",
      "2020-05-29 10:29:31,331 - [49832] [MainThread]- JupyterUI - INFO - [bad] Sentiment: -2.00\n",
      "2020-05-29 10:29:31,332 - [49832] [MainThread]- JupyterUI - INFO - [fault] Sentiment: -2.00\n",
      "2020-05-29 10:29:31,332 - [49832] [MainThread]- JupyterUI - INFO - market: [2] Sentinment Stars: 3.00\n",
      "2020-05-29 10:29:31,333 - [49832] [MainThread]- JupyterUI - INFO - [bad] Sentiment: -2.00\n",
      "2020-05-29 10:29:31,334 - [49832] [MainThread]- JupyterUI - INFO - [easy] Sentiment: 2.00\n"
     ]
    }
   ],
   "source": [
    "for domain in connection.supported_domains:\n",
    "    # analyse using custom domain lexicons\n",
    "    analysis = SentimentAnalysis(connection, domain=domain)\n",
    "    analysis.on_message.subscribe(lambda result: process_result(domain, result))\n",
    "    analysis.detect_sentiment(documents)"
   ]
  },
  {
   "cell_type": "markdown",
   "metadata": {},
   "source": [
    "### Analysis Using Custom lexicon"
   ]
  },
  {
   "cell_type": "code",
   "execution_count": 6,
   "metadata": {},
   "outputs": [
    {
     "name": "stderr",
     "output_type": "stream",
     "text": [
      "2020-05-29 10:29:31,441 - [49832] [MainThread]- JupyterUI - INFO - market: [fd32ee5a-9a31-4de1-85c8-8c1e71c93b83] Sentinment Stars: 5.00\n",
      "2020-05-29 10:29:31,442 - [49832] [MainThread]- JupyterUI - INFO - [bad oder] Sentiment: 3.00\n",
      "2020-05-29 10:29:31,443 - [49832] [MainThread]- JupyterUI - INFO - market: [79d07d67-99de-48b5-98c9-dab8777b8a8a] Sentinment Stars: 1.00\n",
      "2020-05-29 10:29:31,443 - [49832] [MainThread]- JupyterUI - INFO - [love] Sentiment: -3.00\n",
      "2020-05-29 10:29:31,444 - [49832] [MainThread]- JupyterUI - INFO - [bad] Sentiment: -1.00\n"
     ]
    }
   ],
   "source": [
    "lexicon = {'love': -3, 'bad oder': 3, 'bad': -1} # only this lexicon will be in use\n",
    "analysis = SentimentAnalysis(connection, lexicon=lexicon)\n",
    "analysis.on_message.subscribe(lambda result: process_result(domain, result))\n",
    "analysis.detect_sentiment_text(reviews)"
   ]
  },
  {
   "cell_type": "markdown",
   "metadata": {},
   "source": [
    "### Modification of existing lexicon"
   ]
  },
  {
   "cell_type": "code",
   "execution_count": 7,
   "metadata": {},
   "outputs": [
    {
     "name": "stderr",
     "output_type": "stream",
     "text": [
      "2020-05-29 10:29:31,544 - [49832] [MainThread]- JupyterUI - INFO - Medical: [1] Sentinment Stars: 3.95\n",
      "2020-05-29 10:29:31,545 - [49832] [MainThread]- JupyterUI - INFO - [love] Sentiment: 1.85\n",
      "2020-05-29 10:29:31,546 - [49832] [MainThread]- JupyterUI - INFO - [bad] Sentiment: -1.99\n",
      "2020-05-29 10:29:31,546 - [49832] [MainThread]- JupyterUI - INFO - [fast] Sentiment: 1.99\n",
      "2020-05-29 10:29:31,547 - [49832] [MainThread]- JupyterUI - INFO - Medical: [2] Sentinment Stars: 4.33\n",
      "2020-05-29 10:29:31,547 - [49832] [MainThread]- JupyterUI - INFO - [bad] Sentiment: -1.99\n",
      "2020-05-29 10:29:31,548 - [49832] [MainThread]- JupyterUI - INFO - [cheap] Sentiment: 3.00\n",
      "2020-05-29 10:29:31,548 - [49832] [MainThread]- JupyterUI - INFO - [easy] Sentiment: 2.00\n",
      "2020-05-29 10:29:31,611 - [49832] [MainThread]- JupyterUI - INFO - Adjusted Medical: [2] Sentinment Stars: 5.00\n",
      "2020-05-29 10:29:31,611 - [49832] [MainThread]- JupyterUI - INFO - [bad oder] Sentiment: 3.00\n",
      "2020-05-29 10:29:31,612 - [49832] [MainThread]- JupyterUI - INFO - [cheap] Sentiment: 3.00\n",
      "2020-05-29 10:29:31,613 - [49832] [MainThread]- JupyterUI - INFO - [easy] Sentiment: 2.00\n",
      "2020-05-29 10:29:31,613 - [49832] [MainThread]- JupyterUI - INFO - Adjusted Medical: [1] Sentinment Stars: 1.67\n",
      "2020-05-29 10:29:31,614 - [49832] [MainThread]- JupyterUI - INFO - [love] Sentiment: -3.00\n",
      "2020-05-29 10:29:31,614 - [49832] [MainThread]- JupyterUI - INFO - [bad] Sentiment: -1.99\n",
      "2020-05-29 10:29:31,615 - [49832] [MainThread]- JupyterUI - INFO - [fast] Sentiment: 1.99\n"
     ]
    }
   ],
   "source": [
    "lexicon = {'love': -3, 'bad oder': 3} # lexicon modifaction\n",
    "\n",
    "# without modification\n",
    "analysis = SentimentAnalysis(connection, domain='medical')\n",
    "analysis.on_message.subscribe(lambda result: process_result('Medical', result))\n",
    "analysis.detect_sentiment(documents)\n",
    "\n",
    "# with modification\n",
    "analysis = SentimentAnalysis(connection, domain='medical', lexicon=lexicon, adjust_lexicon=True)\n",
    "analysis.on_message.subscribe(lambda result: process_result('Adjusted Medical', result))\n",
    "analysis.detect_sentiment(documents)"
   ]
  },
  {
   "cell_type": "code",
   "execution_count": null,
   "metadata": {},
   "outputs": [],
   "source": []
  }
 ],
 "metadata": {
  "kernelspec": {
   "display_name": "tensor",
   "language": "python",
   "name": "tensor"
  },
  "language_info": {
   "codemirror_mode": {
    "name": "ipython",
    "version": 3
   },
   "file_extension": ".py",
   "mimetype": "text/x-python",
   "name": "python",
   "nbconvert_exporter": "python",
   "pygments_lexer": "ipython3",
   "version": "3.7.4"
  }
 },
 "nbformat": 4,
 "nbformat_minor": 2
}
