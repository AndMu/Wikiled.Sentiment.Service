{
 "cells": [
  {
   "cell_type": "markdown",
   "metadata": {},
   "source": [
    "# Sample Sentiment Analysis"
   ]
  },
  {
   "cell_type": "code",
   "execution_count": 1,
   "metadata": {},
   "outputs": [],
   "source": [
    "from pypsenti.service.sentiment import SentimentAnalysis, SentimentConnection, Document, add_logger\n",
    "from sklearn import metrics\n",
    "import socket\n",
    "user_name = socket.gethostname()\n",
    "connection = SentimentConnection(host='192.168.0.70', port=7044, client_id=user_name)\n",
    "add_logger()"
   ]
  },
  {
   "cell_type": "markdown",
   "metadata": {},
   "source": [
    "###  Supported Custom Domains"
   ]
  },
  {
   "cell_type": "code",
   "execution_count": 2,
   "metadata": {},
   "outputs": [
    {
     "name": "stdout",
     "output_type": "stream",
     "text": [
      "TwitterMarket\n",
      "TwitterTrump\n",
      "market\n"
     ]
    }
   ],
   "source": [
    "for domain in connection.supported_domains:\n",
    "    print(domain)"
   ]
  },
  {
   "cell_type": "markdown",
   "metadata": {},
   "source": [
    "# Standard Lexicon Sentiment Analysis"
   ]
  },
  {
   "cell_type": "code",
   "execution_count": 3,
   "metadata": {},
   "outputs": [
    {
     "name": "stderr",
     "output_type": "stream",
     "text": [
      "2019-12-02 00:11:20,793 - pypsenti.service - INFO - Setting up connection to 192.168.0.70:7044 for hp-z8\n",
      "2019-12-02 00:11:20,795 - pypsenti.service - DEBUG - Opening Connection...\n",
      "2019-12-02 00:11:20,796 - pypsenti.service - DEBUG - Sending CONNECT (u0, p0, wr0, wq0, wf0, c1, k60) client_id=b'hp-z8'\n",
      "2019-12-02 00:11:20,798 - pypsenti.service - DEBUG - wait_connected\n",
      "2019-12-02 00:11:20,819 - pypsenti.service - DEBUG - Received CONNACK (0, 0)\n",
      "2019-12-02 00:11:20,822 - pypsenti.service - DEBUG - on_connect\n",
      "2019-12-02 00:11:21,000 - pypsenti.service - DEBUG - subscribing to topicSentiment/Result/hp-z8\n",
      "2019-12-02 00:11:21,000 - pypsenti.service - DEBUG - Sending SUBSCRIBE (d0, m1) [(b'Sentiment/Result/hp-z8', 1)]\n",
      "2019-12-02 00:11:21,001 - pypsenti.service - DEBUG - subscribe returned (0, 1)\n",
      "2019-12-02 00:11:21,002 - pypsenti.service - DEBUG - wait_subscribed\n",
      "2019-12-02 00:11:21,003 - pypsenti.service - DEBUG - Received SUBACK\n",
      "2019-12-02 00:11:21,004 - pypsenti.service - DEBUG - on_subscribe\n",
      "2019-12-02 00:11:21,202 - pypsenti.service - DEBUG - subscribing to topicSentiment/Done/hp-z8\n",
      "2019-12-02 00:11:21,203 - pypsenti.service - DEBUG - Sending SUBSCRIBE (d0, m2) [(b'Sentiment/Done/hp-z8', 1)]\n",
      "2019-12-02 00:11:21,203 - pypsenti.service - DEBUG - subscribe returned (0, 2)\n",
      "2019-12-02 00:11:21,204 - pypsenti.service - DEBUG - wait_subscribed\n",
      "2019-12-02 00:11:21,206 - pypsenti.service - DEBUG - Received SUBACK\n",
      "2019-12-02 00:11:21,206 - pypsenti.service - DEBUG - on_subscribe\n",
      "2019-12-02 00:11:21,406 - pypsenti.service - DEBUG - subscribing to topicError/hp-z8\n",
      "2019-12-02 00:11:21,407 - pypsenti.service - DEBUG - Sending SUBSCRIBE (d0, m3) [(b'Error/hp-z8', 1)]\n",
      "2019-12-02 00:11:21,407 - pypsenti.service - DEBUG - subscribe returned (0, 3)\n",
      "2019-12-02 00:11:21,408 - pypsenti.service - DEBUG - wait_subscribed\n",
      "2019-12-02 00:11:21,410 - pypsenti.service - DEBUG - Received SUBACK\n",
      "2019-12-02 00:11:21,410 - pypsenti.service - DEBUG - on_subscribe\n",
      "2019-12-02 00:11:21,608 - pypsenti.service - DEBUG - subscribing to topicMessage/hp-z8\n",
      "2019-12-02 00:11:21,608 - pypsenti.service - DEBUG - Sending SUBSCRIBE (d0, m4) [(b'Message/hp-z8', 1)]\n",
      "2019-12-02 00:11:21,609 - pypsenti.service - DEBUG - subscribe returned (0, 4)\n",
      "2019-12-02 00:11:21,610 - pypsenti.service - DEBUG - wait_subscribed\n",
      "2019-12-02 00:11:21,612 - pypsenti.service - DEBUG - Received SUBACK\n",
      "2019-12-02 00:11:21,613 - pypsenti.service - DEBUG - on_subscribe\n",
      "2019-12-02 00:11:21,811 - pypsenti.service - DEBUG - Ready!!!\n",
      "2019-12-02 00:11:21,812 - pypsenti.service - INFO - Sending Analysis Command...\n",
      "2019-12-02 00:11:21,812 - pypsenti.service - DEBUG - Sending PUBLISH (d0, q1, r0, m5), 'b'Sentiment/Analysis'', ... (817 bytes)\n",
      "2019-12-02 00:11:21,814 - pypsenti.service - DEBUG - wait_published\n",
      "2019-12-02 00:11:21,816 - pypsenti.service - DEBUG - Received PUBACK (Mid: 5)\n",
      "2019-12-02 00:11:21,817 - pypsenti.service - DEBUG - published\n",
      "2019-12-02 00:11:22,015 - pypsenti.service - DEBUG - Processing...\n",
      "2019-12-02 00:11:22,015 - pypsenti.service - DEBUG - wait_message\n",
      "2019-12-02 00:11:22,016 - pypsenti.service - DEBUG - wait_messages\n",
      "2019-12-02 00:11:22,836 - pypsenti.service - DEBUG - Received PUBLISH (d0, q1, r0, m1), 'Sentiment/Result/hp-z8', ...  (17001 bytes)\n",
      "2019-12-02 00:11:22,836 - pypsenti.service - DEBUG - Sending PUBACK (Mid: 1)\n",
      "2019-12-02 00:11:22,837 - pypsenti.service - DEBUG - on_message\n",
      "2019-12-02 00:11:22,845 - pypsenti.service - DEBUG - Received PUBLISH (d0, q1, r0, m2), 'Sentiment/Done/hp-z8', ...  (4 bytes)\n",
      "2019-12-02 00:11:22,845 - pypsenti.service - DEBUG - Sending PUBACK (Mid: 2)\n",
      "2019-12-02 00:11:22,846 - pypsenti.service - DEBUG - on_message\n",
      "2019-12-02 00:11:22,860 - pypsenti.service - DEBUG - Received PUBLISH (d0, q1, r0, m3), 'Message/hp-z8', ...  (23 bytes)\n",
      "2019-12-02 00:11:22,860 - pypsenti.service - DEBUG - Sending PUBACK (Mid: 3)\n",
      "2019-12-02 00:11:22,861 - pypsenti.service - DEBUG - on_message\n",
      "2019-12-02 00:11:23,019 - pypsenti.service - DEBUG - message topic=Sentiment/Result/hp-z8 qos=1 retain flag=0\n",
      "2019-12-02 00:11:23,021 - pypsenti.service - DEBUG - Closing Connection...\n",
      "2019-12-02 00:11:23,021 - pypsenti.service - DEBUG - Sending DISCONNECT\n",
      "2019-12-02 00:11:23,022 - pypsenti.service - DEBUG - on_disconnect\n"
     ]
    },
    {
     "name": "stdout",
     "output_type": "stream",
     "text": [
      "3.58\n",
      "3.68\n",
      "Wall time: 2.23 s\n"
     ]
    }
   ],
   "source": [
    "%%time\n",
    "amazon_reviews = ['I love this hello kitty decal! I like that the bow is pink instead of red. Only bad thing is that after putting it on the window theres a few air bubbles, but that most likely my fault. Shipped fast too.',\n",
    "                  'I bought this for my 3 yr old daughter when I took it out the pack it had a bad oder, cute but very cheap material easy to ripe.  When I tried it on her it was to big, but of course she liked it so I kept it. I dressed her up in it and she looked cute.']\n",
    "\n",
    "analysis = SentimentAnalysis(connection)\n",
    "\n",
    "for result in analysis.detect_sentiment_text(amazon_reviews):\n",
    "    print(f'{result[\"Stars\"]:1.2f}')"
   ]
  },
  {
   "cell_type": "code",
   "execution_count": 4,
   "metadata": {},
   "outputs": [
    {
     "ename": "NameError",
     "evalue": "name 'documents' is not defined",
     "output_type": "error",
     "traceback": [
      "\u001b[1;31m---------------------------------------------------------------------------\u001b[0m",
      "\u001b[1;31mNameError\u001b[0m                                 Traceback (most recent call last)",
      "\u001b[1;32m<ipython-input-4-8dfc57cb08c4>\u001b[0m in \u001b[0;36m<module>\u001b[1;34m\u001b[0m\n\u001b[0;32m      1\u001b[0m \u001b[0manalysis\u001b[0m \u001b[1;33m=\u001b[0m \u001b[0mSentimentAnalysis\u001b[0m\u001b[1;33m(\u001b[0m\u001b[0mSentimentConnection\u001b[0m\u001b[1;33m(\u001b[0m\u001b[0muser_name\u001b[0m\u001b[1;33m)\u001b[0m\u001b[1;33m,\u001b[0m \u001b[0mmodel\u001b[0m\u001b[1;33m=\u001b[0m\u001b[1;34m'Test'\u001b[0m\u001b[1;33m)\u001b[0m\u001b[1;33m\u001b[0m\u001b[1;33m\u001b[0m\u001b[0m\n\u001b[0;32m      2\u001b[0m \u001b[1;33m\u001b[0m\u001b[0m\n\u001b[1;32m----> 3\u001b[1;33m \u001b[1;32mfor\u001b[0m \u001b[0mresult\u001b[0m \u001b[1;32min\u001b[0m \u001b[0manalysis\u001b[0m\u001b[1;33m.\u001b[0m\u001b[0mdetect_sentiment\u001b[0m\u001b[1;33m(\u001b[0m\u001b[0mdocuments\u001b[0m\u001b[1;33m)\u001b[0m\u001b[1;33m:\u001b[0m\u001b[1;33m\u001b[0m\u001b[1;33m\u001b[0m\u001b[0m\n\u001b[0m\u001b[0;32m      4\u001b[0m     \u001b[0mprint\u001b[0m\u001b[1;33m(\u001b[0m\u001b[0mresult\u001b[0m\u001b[1;33m[\u001b[0m\u001b[1;34m'Stars'\u001b[0m\u001b[1;33m]\u001b[0m\u001b[1;33m)\u001b[0m\u001b[1;33m\u001b[0m\u001b[1;33m\u001b[0m\u001b[0m\n",
      "\u001b[1;31mNameError\u001b[0m: name 'documents' is not defined"
     ]
    }
   ],
   "source": [
    "analysis = SentimentAnalysis(SentimentConnection(user_name), model='Test')\n",
    "\n",
    "for result in analysis.detect_sentiment(documents):\n",
    "    print(result['Stars'])"
   ]
  },
  {
   "cell_type": "code",
   "execution_count": 5,
   "metadata": {},
   "outputs": [
    {
     "name": "stdout",
     "output_type": "stream",
     "text": [
      "Processig 2000 documents...\n",
      "Total processed documents: 2000\n",
      "Accuracy: 0.776\n",
      "Wall time: 11.4 s\n"
     ]
    }
   ],
   "source": [
    "%%time\n",
    "id = 0 \n",
    "all_amazon_documents = []\n",
    "true_document_class = {}\n",
    "with open('../data/amazon/positive.txt', \"r\", encoding='utf8') as reader:\n",
    "    for line in reader:\n",
    "        doc = Document(id, line)\n",
    "        doc.isPositive = True\n",
    "        all_amazon_documents.append(doc)\n",
    "        true_document_class[doc.id] = True\n",
    "        id += 1\n",
    "    \n",
    "with open('../data/amazon/negative.txt', \"r\", encoding='utf8') as reader:\n",
    "    for line in reader:\n",
    "        doc = Document(id, line)    \n",
    "        doc.isPositive = False\n",
    "        all_amazon_documents.append(doc)\n",
    "        true_document_class[doc.id] = False\n",
    "        id += 1\n",
    "    \n",
    "detected_document_class = {}\n",
    "print(f'Processig {len(all_amazon_documents)} documents...')\n",
    "analysis = SentimentAnalysis(connection)\n",
    "for result in analysis.detect_sentiment(all_amazon_documents):\n",
    "    stars = result['Stars']    \n",
    "    id  = result['Id']\n",
    "    detected_document_class[id] = stars is not None and stars > 3\n",
    "    \n",
    "print(f'Total processed documents: {len(detected_document_class)}')\n",
    "\n",
    "test_y = [true_document_class[document.id] for document in all_amazon_documents]\n",
    "result_y = [detected_document_class[document.id] for document in all_amazon_documents]\n",
    "vacc = metrics.accuracy_score(test_y, result_y)\n",
    "print(f'Accuracy: {vacc}')\n",
    "\n",
    "#"
   ]
  },
  {
   "cell_type": "code",
   "execution_count": 6,
   "metadata": {},
   "outputs": [
    {
     "name": "stdout",
     "output_type": "stream",
     "text": [
      "Wall time: 3.14 s\n"
     ]
    }
   ],
   "source": [
    "%%time\n",
    "connection.save_documents('Amazon', all_amazon_documents)\n",
    "analysis = SentimentAnalysis(connection)"
   ]
  },
  {
   "cell_type": "code",
   "execution_count": 7,
   "metadata": {},
   "outputs": [
    {
     "name": "stdout",
     "output_type": "stream",
     "text": [
      "Wall time: 8.99 s\n"
     ]
    }
   ],
   "source": [
    "%%time\n",
    "analysis.train('Amazon')"
   ]
  },
  {
   "cell_type": "code",
   "execution_count": 8,
   "metadata": {},
   "outputs": [
    {
     "name": "stdout",
     "output_type": "stream",
     "text": [
      "Total processed documents: 2000\n",
      "Accuracy: 0.8895\n",
      "Wall time: 8.01 s\n"
     ]
    }
   ],
   "source": [
    "%%time\n",
    "analysis = SentimentAnalysis(connection, model='Amazon')\n",
    "for result in analysis.detect_sentiment(all_amazon_documents):\n",
    "    stars = result['Stars']    \n",
    "    id  = result['Id']\n",
    "    detected_document_class[id] = stars is not None and stars > 3\n",
    "    \n",
    "print(f'Total processed documents: {len(detected_document_class)}')\n",
    "\n",
    "test_y = [true_document_class[document.id] for document in all_amazon_documents]\n",
    "result_y = [detected_document_class[document.id] for document in all_amazon_documents]\n",
    "vacc = metrics.accuracy_score(test_y, result_y)\n",
    "print(f'Accuracy: {vacc}')"
   ]
  },
  {
   "cell_type": "code",
   "execution_count": null,
   "metadata": {},
   "outputs": [],
   "source": []
  }
 ],
 "metadata": {
  "kernelspec": {
   "display_name": "Python [conda env:.conda-tensor-gpu] *",
   "language": "python",
   "name": "conda-env-.conda-tensor-gpu-py"
  },
  "language_info": {
   "codemirror_mode": {
    "name": "ipython",
    "version": 3
   },
   "file_extension": ".py",
   "mimetype": "text/x-python",
   "name": "python",
   "nbconvert_exporter": "python",
   "pygments_lexer": "ipython3",
   "version": "3.7.5"
  }
 },
 "nbformat": 4,
 "nbformat_minor": 2
}
