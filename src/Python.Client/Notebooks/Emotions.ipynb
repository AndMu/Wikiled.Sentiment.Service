{
 "cells": [
  {
   "cell_type": "markdown",
   "metadata": {},
   "source": [
    "# Sample Emotion Analysis"
   ]
  },
  {
   "cell_type": "code",
   "execution_count": 1,
   "metadata": {
    "pycharm": {
     "is_executing": false
    }
   },
   "outputs": [
    {
     "name": "stdout",
     "output_type": "stream",
     "text": [
      "Requirement already satisfied: nest_asyncio in c:\\users\\andrius.wikiled\\.conda\\envs\\tensor-gpu\\lib\\site-packages (1.3.3)\n"
     ]
    }
   ],
   "source": [
    "!pip install nest_asyncio\n",
    "from logging.handlers import TimedRotatingFileHandler\n",
    "import logging.config\n",
    "from psenti import SentimentAnalysis, SentimentConnection, Document\n",
    "from sklearn import metrics\n",
    "from datetime import datetime\n",
    "import socket\n",
    "import json\n",
    "\n",
    "user_name = socket.gethostname()\n",
    "host = '127.0.0.1'\n",
    "port = 5000\n",
    "\n",
    "import nest_asyncio\n",
    "import asyncio\n",
    "nest_asyncio.apply(loop=asyncio.get_event_loop())\n",
    "\n",
    "logger = logging.getLogger('JupyterUI')\n",
    "logFormatter = logging.Formatter('%(asctime)s - [%(thread)s] [%(threadName)s]- %(name)s - %(levelname)s - %(message)s')\n",
    "logger.setLevel(logging.DEBUG)\n",
    "\n",
    "console = logging.StreamHandler()\n",
    "console.setFormatter(logFormatter)\n",
    "console.setLevel(logging.DEBUG)\n",
    "\n",
    "logger.addHandler(console)\n",
    "\n",
    "connection = SentimentConnection(host=host, port=port, client_id=user_name)"
   ]
  },
  {
   "cell_type": "markdown",
   "metadata": {},
   "source": [
    "### Setup results Processing"
   ]
  },
  {
   "cell_type": "code",
   "execution_count": 20,
   "metadata": {},
   "outputs": [],
   "source": [
    "reviews = ['I love this hello kitty decal! I like that the bow is pink instead of red. Only bad thing is that after putting it on the window theres a few air bubbles, but that most likely my fault. Shipped fast too.']\n",
    "\n",
    "def process_result(result):\n",
    "    \n",
    "    if 'Attributes' in result:\n",
    "        for key, value in result['Attributes'].items():\n",
    "            logger.info(f'Document emotion [{key}]: {float(value):1.2f}')    \n",
    "    \n",
    "    logger.info('=' * 20)    \n",
    "    logger.info('Emotion Words:')    \n",
    "    logger.info('=' * 20)    \n",
    "    for sentence in result['Sentences']:\n",
    "        for word in sentence['Words']:\n",
    "            if 'Emotions' in word and word['Emotions'] != ['None']:\n",
    "                logger.info(f\"Word [{word['Text']}] Emotions: {word['Emotions']}\")            \n",
    "                \n",
    "    logger.info('=' * 20)    \n",
    "    logger.info('Word Attributes:')    \n",
    "    logger.info('=' * 20)    \n",
    "    for sentence in result['Sentences']:\n",
    "        for word in sentence['Words']:            \n",
    "            if 'Attributes' in word and len(word['Attributes']) > 0:\n",
    "                logger.info(f\"Word [{word['Text']}] Attributes: {word['Attributes']}\")\n"
   ]
  },
  {
   "cell_type": "markdown",
   "metadata": {},
   "source": [
    "### Analyse"
   ]
  },
  {
   "cell_type": "code",
   "execution_count": 21,
   "metadata": {},
   "outputs": [
    {
     "name": "stderr",
     "output_type": "stream",
     "text": [
      "2020-06-02 16:14:28,061 - [122124] [MainThread]- JupyterUI - INFO - Document emotion [Anger]: 0.02\n",
      "2020-06-02 16:14:28,061 - [122124] [MainThread]- JupyterUI - INFO - Document emotion [Anticipation]: 0.02\n",
      "2020-06-02 16:14:28,061 - [122124] [MainThread]- JupyterUI - INFO - Document emotion [Disgust]: 0.02\n",
      "2020-06-02 16:14:28,062 - [122124] [MainThread]- JupyterUI - INFO - Document emotion [Fear]: 0.02\n",
      "2020-06-02 16:14:28,062 - [122124] [MainThread]- JupyterUI - INFO - Document emotion [Joy]: 0.02\n",
      "2020-06-02 16:14:28,063 - [122124] [MainThread]- JupyterUI - INFO - Document emotion [Sadness]: 0.05\n",
      "2020-06-02 16:14:28,063 - [122124] [MainThread]- JupyterUI - INFO - Document emotion [Surprise]: 0.00\n",
      "2020-06-02 16:14:28,064 - [122124] [MainThread]- JupyterUI - INFO - Document emotion [Trust]: 0.00\n",
      "2020-06-02 16:14:28,064 - [122124] [MainThread]- JupyterUI - INFO - ====================\n",
      "2020-06-02 16:14:28,065 - [122124] [MainThread]- JupyterUI - INFO - Emotion Words:\n",
      "2020-06-02 16:14:28,065 - [122124] [MainThread]- JupyterUI - INFO - ====================\n",
      "2020-06-02 16:14:28,065 - [122124] [MainThread]- JupyterUI - INFO - Word [love] Emotions: ['Joy']\n",
      "2020-06-02 16:14:28,066 - [122124] [MainThread]- JupyterUI - INFO - Word [bad] Emotions: ['Anger', 'Disgust', 'Fear', 'Sadness']\n",
      "2020-06-02 16:14:28,066 - [122124] [MainThread]- JupyterUI - INFO - Word [fault] Emotions: ['Sadness']\n",
      "2020-06-02 16:14:28,067 - [122124] [MainThread]- JupyterUI - INFO - Word [shipped] Emotions: ['Anticipation']\n",
      "2020-06-02 16:14:28,067 - [122124] [MainThread]- JupyterUI - INFO - ====================\n",
      "2020-06-02 16:14:28,068 - [122124] [MainThread]- JupyterUI - INFO - Word Attributes:\n",
      "2020-06-02 16:14:28,068 - [122124] [MainThread]- JupyterUI - INFO - ====================\n",
      "2020-06-02 16:14:28,068 - [122124] [MainThread]- JupyterUI - INFO - Word [i] Attributes: ['IsSelf']\n",
      "2020-06-02 16:14:28,069 - [122124] [MainThread]- JupyterUI - INFO - Word [love] Attributes: ['IsSuperverb', 'IsSociallyRelation', 'IsPassive', 'IsSupportive', 'DoesDescribeMentalState', 'IsGain', 'IsTotal', 'IsPassive', 'IsSupportive', 'IsPleasure', 'IsEmotion', 'IsOther', 'IsTotal', 'IsPassive', 'IsSupportive', 'IsPleasure', 'IsEmotion', 'IsGain', 'IsTotal', 'IsPassive', 'IsSupportive', 'IsPleasure', 'IsEmotion', 'IsGain', 'IsTotal', 'IsSuperverb', 'IsSociallyRelation', 'IsActive', 'IsStrong', 'IsSupportive', 'GivesInterpretativeExplanation', 'IsGain', 'IsTotal', 'IsSociallyRelation', 'IsSupportive', 'IsOther', 'IsTotal']\n",
      "2020-06-02 16:14:28,069 - [122124] [MainThread]- JupyterUI - INFO - Word [this] Attributes: ['IsDeterminer', 'IsDemonstrative', 'IsDemonstrative1']\n",
      "2020-06-02 16:14:28,070 - [122124] [MainThread]- JupyterUI - INFO - Word [i] Attributes: ['IsSelf']\n",
      "2020-06-02 16:14:28,070 - [122124] [MainThread]- JupyterUI - INFO - Word [like] Attributes: ['IsConjunction', 'IsClausal', 'IsRelationships', 'IsSuperverb', 'IsPassive', 'IsSupportive', 'IsArousal', 'DoesDescribeMentalState', 'IsGain', 'IsTotal', 'IsPassive', 'IsSupportive', 'IsArousal', 'IsEmotion', 'IsPositiveAffect']\n",
      "2020-06-02 16:14:28,070 - [122124] [MainThread]- JupyterUI - INFO - Word [that] Attributes: ['IsConjunction', 'IsClausal', 'IsDeterminer', 'IsDemonstrative', 'IsDemonstrative2']\n",
      "2020-06-02 16:14:28,071 - [122124] [MainThread]- JupyterUI - INFO - Word [the] Attributes: ['IsDeterminer', 'IsArticle']\n",
      "2020-06-02 16:14:28,071 - [122124] [MainThread]- JupyterUI - INFO - Word [bow] Attributes: ['IsMilitary', 'IsObject', 'Tool', 'IsConflict', 'IsTotal', 'IsSuperverb', 'IsWeak', 'IsSubmit', 'IsCommunicationTransaction', 'IsStraightDescriptive', 'IsLoss', 'IsTotal', 'IsPassive', 'IsWeak', 'IsVice', 'IsLoss', 'IsTotal']\n",
      "2020-06-02 16:14:28,071 - [122124] [MainThread]- JupyterUI - INFO - Word [pink] Attributes: ['IsColor']\n",
      "2020-06-02 16:14:28,072 - [122124] [MainThread]- JupyterUI - INFO - Word [instead] Attributes: ['IsKnowing', 'IsRelationships']\n",
      "2020-06-02 16:14:28,072 - [122124] [MainThread]- JupyterUI - INFO - Word [red] Attributes: ['IsColor']\n",
      "2020-06-02 16:14:28,073 - [122124] [MainThread]- JupyterUI - INFO - Word [only] Attributes: ['IsDeterminer', 'IsPrearticle', 'IsPrearticle1', 'IsUnderstated', 'IsWeak', 'IsQuantity', 'IsUnderstated', 'IsQuantity', 'IsConjunction', 'IsClausal', 'IsUnderstated']\n",
      "2020-06-02 16:14:28,073 - [122124] [MainThread]- JupyterUI - INFO - Word [bad] Attributes: ['IsOverstated', 'IsVice', 'IsEvaluation', 'IsNegativeAffect']\n",
      "2020-06-02 16:14:28,074 - [122124] [MainThread]- JupyterUI - INFO - Word [thing] Attributes: ['IsObject', 'IsNatural']\n",
      "2020-06-02 16:14:28,074 - [122124] [MainThread]- JupyterUI - INFO - Word [that] Attributes: ['IsConjunction', 'IsClausal', 'IsDeterminer', 'IsDemonstrative', 'IsDemonstrative2']\n",
      "2020-06-02 16:14:28,075 - [122124] [MainThread]- JupyterUI - INFO - Word [after] Attributes: ['IsTime', 'IsTimeSpace', 'IsOverstated', 'IsSure']\n",
      "2020-06-02 16:14:28,075 - [122124] [MainThread]- JupyterUI - INFO - Word [on] Attributes: ['IsSpace']\n",
      "2020-06-02 16:14:28,075 - [122124] [MainThread]- JupyterUI - INFO - Word [the] Attributes: ['IsDeterminer', 'IsArticle']\n",
      "2020-06-02 16:14:28,076 - [122124] [MainThread]- JupyterUI - INFO - Word [a] Attributes: ['IsDeterminer', 'IsArticle']\n",
      "2020-06-02 16:14:28,076 - [122124] [MainThread]- JupyterUI - INFO - Word [few] Attributes: ['IsDeterminer', 'IsPrearticle', 'IsPrearticle1', 'IsUnderstated', 'IsWeak', 'IsQuantity', 'IsUnderstated', 'IsWeak', 'IsOverstated', 'IsStrong', 'IsDeterminer', 'IsPrearticle', 'IsPrearticle1', 'IsUnderstated', 'IsWeak', 'IsQuantity', 'IsDeterminer', 'IsPrearticle', 'IsPrearticle1', 'IsUnderstated', 'IsWeak', 'IsQuantity']\n",
      "2020-06-02 16:14:28,077 - [122124] [MainThread]- JupyterUI - INFO - Word [air] Attributes: ['IsPlace', 'IsSky', 'IsHuman', 'IsCollectivity', 'IsMilitary', 'IsPolitical', 'IsAuthoritativeParticipant', 'IsTotal', 'IsCommunicationTransaction', 'IsLoss', 'IsTotal', 'IsFormat', 'IsSuperverb', 'IsStrong', 'IsCommunicationTransaction', 'GivesInterpretativeExplanation', 'IsGain', 'IsTotal', 'IsObject', 'Tool', 'IsPhysicalAspect', 'IsTotal', 'IsCommunicationTransaction', 'IsFormat']\n",
      "2020-06-02 16:14:28,077 - [122124] [MainThread]- JupyterUI - INFO - Word [but] Attributes: ['IsConjunction', 'IsSentential', 'IsUnderstated']\n",
      "2020-06-02 16:14:28,078 - [122124] [MainThread]- JupyterUI - INFO - Word [that] Attributes: ['IsConjunction', 'IsClausal', 'IsDeterminer', 'IsDemonstrative', 'IsDemonstrative2']\n",
      "2020-06-02 16:14:28,078 - [122124] [MainThread]- JupyterUI - INFO - Word [most] Attributes: ['IsDeterminer', 'IsPrearticle', 'IsPrearticle2', 'IsOverstated', 'IsStrong', 'IsComparison', 'IsQuantity', 'IsOverstated', 'IsStrong', 'IsQuantity', 'IsOverstated', 'IsStrong', 'IsQuantity']\n",
      "2020-06-02 16:14:28,078 - [122124] [MainThread]- JupyterUI - INFO - Word [likely] Attributes: ['IsOverstated', 'IsCausal', 'IsIf', 'IsCausal', 'IsIf']\n",
      "2020-06-02 16:14:28,079 - [122124] [MainThread]- JupyterUI - INFO - Word [my] Attributes: ['IsDeterminer', 'IsGenitive', 'IsSelf']\n",
      "2020-06-02 16:14:28,079 - [122124] [MainThread]- JupyterUI - INFO - Word [fault] Attributes: ['IsWeak', 'IsVice', 'IsOther', 'IsTotal']\n",
      "2020-06-02 16:14:28,080 - [122124] [MainThread]- JupyterUI - INFO - Word [fast] Attributes: ['IsOverstated', 'IsActive', 'IsStrong', 'IsTime', 'IsSuperverb', 'IsActive', 'IsStrong', 'IsNaturalProcess', 'IsStraightDescriptive', 'IsStrong', 'IsPersist', 'IsRitual', 'IsOverstated', 'IsActive', 'IsStrong', 'IsTime', 'IsOverstated', 'IsActive', 'IsStrong', 'IsTime']\n",
      "2020-06-02 16:14:28,080 - [122124] [MainThread]- JupyterUI - INFO - Word [too] Attributes: ['IsOverstated', 'IsQuantity', 'IsOverstated', 'IsVice', 'IsVice', 'IsEvaluation']\n"
     ]
    }
   ],
   "source": [
    "analysis = SentimentAnalysis(connection, extract_emotions=True)\n",
    "analysis.on_message.subscribe(lambda result: process_result(result))\n",
    "analysis.detect_sentiment_text(reviews)"
   ]
  },
  {
   "cell_type": "code",
   "execution_count": null,
   "metadata": {},
   "outputs": [],
   "source": []
  }
 ],
 "metadata": {
  "kernelspec": {
   "display_name": "Python [conda env:.conda-tensor-gpu] *",
   "language": "python",
   "name": "conda-env-.conda-tensor-gpu-py"
  },
  "language_info": {
   "codemirror_mode": {
    "name": "ipython",
    "version": 3
   },
   "file_extension": ".py",
   "mimetype": "text/x-python",
   "name": "python",
   "nbconvert_exporter": "python",
   "pygments_lexer": "ipython3",
   "version": "3.7.6"
  }
 },
 "nbformat": 4,
 "nbformat_minor": 2
}
